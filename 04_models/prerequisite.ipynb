{
 "cells": [
  {
   "cell_type": "markdown",
   "metadata": {},
   "source": [
    "This notebook enumerate some prerequisite for the section classification"
   ]
  },
  {
   "cell_type": "markdown",
   "metadata": {},
   "source": [
    "# 1-norm and 2-norm distance\n",
    "Suppose we have 2 points: $p_1(x_1,y_1)$ and $p_2(x_2,y_2)$ \n",
    "- 1-norm: $d(p_1,p_2) = |x_1-x_2|+|y_1-y_2| $\n",
    "- 2-norm: $d(p_1,p_2) = \\sqrt[2]{(x_1-x_2)^2+(y_1-y_2)^2} $\n",
    "\n",
    "Extend this concept in n dimension space:\n",
    "$p_1(x_{11},x_{12},x_{13},\\dots x_{1n})$ and $p_2(x_{21},x_{22},x_{23},\\dots x_{2n})$\n",
    "- 1-norm: $d(p_1,p_2) = \\sum_{i=1}^{n}|x_{1i}-x_{2i}|$\n",
    "- 2-norm: $d(p_1,p_2) = \\sqrt[2]{\\sum_{i=1}^{n}(x_{1i}-x_{2i})^2} $"
   ]
  },
  {
   "cell_type": "markdown",
   "metadata": {},
   "source": [
    "# Conditional probability and independence\n",
    " - Conditional probability:  \n",
    " \n",
    " $P(A|B) = \\frac{P(A \\cap B)}{P(B)}$\n",
    " - Probability of independent events \n",
    " \n",
    " If A and B are independent, then $P(A|B) = P(A)$. Thus we have $P(A \\cap B) = P(A)P(B)$"
   ]
  },
  {
   "cell_type": "markdown",
   "metadata": {},
   "source": [
    "# Logarithm\n",
    "For $a>0, a \\neq 1, b>0 $ we have $a^x = b \\iff log_ab = x$"
   ]
  },
  {
   "cell_type": "markdown",
   "metadata": {},
   "source": [
    "# Derivative and Gradient\n",
    "suppose we have $f(x)$, the deravative of f repect to x is $\\frac{\\partial f}{\\partial x}$\n",
    "\n",
    "suppose we have $f(x_1,x_2,x_3 \\dots,x_n)\\\\\n",
    "\\nabla f = \\begin{bmatrix}\n",
    "           \\frac{\\partial f}{\\partial x_{1}} \\\\\n",
    "           \\frac{\\partial f}{\\partial x_{2}} \\\\\n",
    "           \\vdots \\\\\n",
    "           \\frac{\\partial f}{\\partial x_{n}}\n",
    "         \\end{bmatrix}\n",
    "         $"
   ]
  }
 ],
 "metadata": {
  "kernelspec": {
   "display_name": "Python 3",
   "language": "python",
   "name": "python3"
  },
  "language_info": {
   "codemirror_mode": {
    "name": "ipython",
    "version": 3
   },
   "file_extension": ".py",
   "mimetype": "text/x-python",
   "name": "python",
   "nbconvert_exporter": "python",
   "pygments_lexer": "ipython3",
   "version": "3.7.6"
  }
 },
 "nbformat": 4,
 "nbformat_minor": 2
}
