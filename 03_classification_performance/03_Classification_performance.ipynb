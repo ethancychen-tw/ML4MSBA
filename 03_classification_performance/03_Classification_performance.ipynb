{
 "cells": [
  {
   "cell_type": "markdown",
   "metadata": {},
   "source": [
    "# \n",
    "03_Classification_performance\n",
    "\n",
    "In the previous tutorials, we've seen machine learning takes the problem form:\n",
    "\n",
    ">`Given`\n",
    ">- x1, x2, x3... (features)  \n",
    ">- y (target)  \n",
    "\n",
    ">`Our wish`\n",
    ">- Find a good rule/profiler (or \"function\") that help us predict target, given the features\n",
    "\n",
    "From now on, we would discover one of the the most fundamental task in machine learning: classification.\n",
    "\n",
    "**WARING: This session is focusing on concepts. I strongly recommend you raise any question you have in this section.**"
   ]
  },
  {
   "cell_type": "markdown",
   "metadata": {},
   "source": [
    "# What is classification?\n",
    "\n",
    "X = categorical or numerical\n",
    "Y = \"group\" or \"class\" membership of record\n",
    "\n",
    "For a function that help us predict y(target) given x1,x2, x3...(features), we usually call it a **classifier**\n",
    "\n",
    "- Goal: To explain or to predict?\n",
    "    - Profiling (=Explaining): What factors (X1, X2,...) affect customer satisfaction (Y)?\n",
    "        - Purpose: Retention strategies, Acquisition strategies, Policy changes\n",
    "        - Data: Customer demographics, Info on Customer calls, Billing history\n",
    "    - Classification (=Prediction):Predict Y (class) for new records, based on their feature information (X1, X2,...)  \n",
    "    `can you think of a predictive goal for the predictive example using the same data?`\n",
    "    - Ranking: a special predictive goal, will discuss later"
   ]
  },
  {
   "cell_type": "markdown",
   "metadata": {},
   "source": [
    "# Classification performance for binary classification task"
   ]
  },
  {
   "cell_type": "markdown",
   "metadata": {},
   "source": [
    "Binary classification is the basic case in classification problem. The target in binary classification problem could be \"Yes/No\", \"High/Low\", \"Churn/Stay\"...etc\n",
    "\n",
    "Let's see an example!\n",
    "\n",
    "Suppose we have a fake advertising data set, indicating whether or not a particular internet user clicked on an Advertisement. We will try to create a model that will predict **whether or not they will click on an ad** based off the features of that user.\n",
    "\n",
    "Here's the data dictionary\n",
    "* 'Daily Time Spent on Site': consumer time on site in minutes\n",
    "* 'Age': cutomer age in years\n",
    "* 'Area Income': Avg. Income of geographical area of consumer\n",
    "* 'Daily Internet Usage': Avg. minutes a day consumer is on the internet\n",
    "* 'Ad Topic Line': Headline of the advertisement\n",
    "* 'City': City of consumer\n",
    "* 'Male': Whether or not consumer was male\n",
    "* 'Country': Country of consumer\n",
    "* 'Timestamp': Time at which consumer clicked on Ad or closed window\n",
    "* 'Clicked on Ad': 0 or 1 indicated clicking on Ad"
   ]
  },
  {
   "cell_type": "code",
   "execution_count": 1,
   "metadata": {},
   "outputs": [
    {
     "data": {
      "text/html": [
       "<div>\n",
       "<style scoped>\n",
       "    .dataframe tbody tr th:only-of-type {\n",
       "        vertical-align: middle;\n",
       "    }\n",
       "\n",
       "    .dataframe tbody tr th {\n",
       "        vertical-align: top;\n",
       "    }\n",
       "\n",
       "    .dataframe thead th {\n",
       "        text-align: right;\n",
       "    }\n",
       "</style>\n",
       "<table border=\"1\" class=\"dataframe\">\n",
       "  <thead>\n",
       "    <tr style=\"text-align: right;\">\n",
       "      <th></th>\n",
       "      <th>Daily Time Spent on Site</th>\n",
       "      <th>Age</th>\n",
       "      <th>Area Income</th>\n",
       "      <th>Daily Internet Usage</th>\n",
       "      <th>Ad Topic Line</th>\n",
       "      <th>City</th>\n",
       "      <th>Male</th>\n",
       "      <th>Country</th>\n",
       "      <th>Timestamp</th>\n",
       "      <th>Clicked on Ad</th>\n",
       "    </tr>\n",
       "  </thead>\n",
       "  <tbody>\n",
       "    <tr>\n",
       "      <th>0</th>\n",
       "      <td>68.95</td>\n",
       "      <td>35</td>\n",
       "      <td>61833.90</td>\n",
       "      <td>256.09</td>\n",
       "      <td>Cloned 5thgeneration orchestration</td>\n",
       "      <td>Wrightburgh</td>\n",
       "      <td>0</td>\n",
       "      <td>Tunisia</td>\n",
       "      <td>2016-03-27 00:53:11</td>\n",
       "      <td>0</td>\n",
       "    </tr>\n",
       "    <tr>\n",
       "      <th>1</th>\n",
       "      <td>80.23</td>\n",
       "      <td>31</td>\n",
       "      <td>68441.85</td>\n",
       "      <td>193.77</td>\n",
       "      <td>Monitored national standardization</td>\n",
       "      <td>West Jodi</td>\n",
       "      <td>1</td>\n",
       "      <td>Nauru</td>\n",
       "      <td>2016-04-04 01:39:02</td>\n",
       "      <td>0</td>\n",
       "    </tr>\n",
       "    <tr>\n",
       "      <th>2</th>\n",
       "      <td>69.47</td>\n",
       "      <td>26</td>\n",
       "      <td>59785.94</td>\n",
       "      <td>236.50</td>\n",
       "      <td>Organic bottom-line service-desk</td>\n",
       "      <td>Davidton</td>\n",
       "      <td>0</td>\n",
       "      <td>San Marino</td>\n",
       "      <td>2016-03-13 20:35:42</td>\n",
       "      <td>0</td>\n",
       "    </tr>\n",
       "    <tr>\n",
       "      <th>3</th>\n",
       "      <td>74.15</td>\n",
       "      <td>29</td>\n",
       "      <td>54806.18</td>\n",
       "      <td>245.89</td>\n",
       "      <td>Triple-buffered reciprocal time-frame</td>\n",
       "      <td>West Terrifurt</td>\n",
       "      <td>1</td>\n",
       "      <td>Italy</td>\n",
       "      <td>2016-01-10 02:31:19</td>\n",
       "      <td>0</td>\n",
       "    </tr>\n",
       "    <tr>\n",
       "      <th>4</th>\n",
       "      <td>68.37</td>\n",
       "      <td>35</td>\n",
       "      <td>73889.99</td>\n",
       "      <td>225.58</td>\n",
       "      <td>Robust logistical utilization</td>\n",
       "      <td>South Manuel</td>\n",
       "      <td>0</td>\n",
       "      <td>Iceland</td>\n",
       "      <td>2016-06-03 03:36:18</td>\n",
       "      <td>0</td>\n",
       "    </tr>\n",
       "  </tbody>\n",
       "</table>\n",
       "</div>"
      ],
      "text/plain": [
       "   Daily Time Spent on Site  Age  Area Income  Daily Internet Usage  \\\n",
       "0                     68.95   35     61833.90                256.09   \n",
       "1                     80.23   31     68441.85                193.77   \n",
       "2                     69.47   26     59785.94                236.50   \n",
       "3                     74.15   29     54806.18                245.89   \n",
       "4                     68.37   35     73889.99                225.58   \n",
       "\n",
       "                           Ad Topic Line            City  Male     Country  \\\n",
       "0     Cloned 5thgeneration orchestration     Wrightburgh     0     Tunisia   \n",
       "1     Monitored national standardization       West Jodi     1       Nauru   \n",
       "2       Organic bottom-line service-desk        Davidton     0  San Marino   \n",
       "3  Triple-buffered reciprocal time-frame  West Terrifurt     1       Italy   \n",
       "4          Robust logistical utilization    South Manuel     0     Iceland   \n",
       "\n",
       "             Timestamp  Clicked on Ad  \n",
       "0  2016-03-27 00:53:11              0  \n",
       "1  2016-04-04 01:39:02              0  \n",
       "2  2016-03-13 20:35:42              0  \n",
       "3  2016-01-10 02:31:19              0  \n",
       "4  2016-06-03 03:36:18              0  "
      ]
     },
     "execution_count": 1,
     "metadata": {},
     "output_type": "execute_result"
    }
   ],
   "source": [
    "import pandas as pd\n",
    "data = pd.read_csv(\"../datasets/advertising.csv\")\n",
    "data.head()"
   ]
  },
  {
   "cell_type": "markdown",
   "metadata": {},
   "source": [
    "**Hold on a second...**  \n",
    "Why do we want to create a model to predict whther they click on Ad or not?  To explain or to predict?  \n",
    "And how it matters to our modeling process?  "
   ]
  },
  {
   "cell_type": "code",
   "execution_count": 2,
   "metadata": {},
   "outputs": [
    {
     "name": "stdout",
     "output_type": "stream",
     "text": [
      "2016-01-01 02:52:10\n",
      "2016-07-24 00:22:16\n"
     ]
    }
   ],
   "source": [
    "print(data['Timestamp'].min())\n",
    "print(data['Timestamp'].max())"
   ]
  },
  {
   "cell_type": "markdown",
   "metadata": {},
   "source": [
    "Hint:\n",
    "- To explain -> build model on whole data, or train test split randomly\n",
    "- To predict -> think of train test split and split on what carefully\n",
    "\n",
    "-----> Always think with the goal carefully  \n",
    "Let's move on!"
   ]
  },
  {
   "cell_type": "markdown",
   "metadata": {},
   "source": [
    "## Baseline Performance\n",
    "Why do we need a baseline?\n",
    "### Baseline#1: The naive rule - Classify each observation as belonging to the majority class\n",
    "- Naïve rule applied to training, holdout or combined?\n",
    "- What is the naïve rule in the case of a numerical output?"
   ]
  },
  {
   "cell_type": "code",
   "execution_count": 3,
   "metadata": {},
   "outputs": [
    {
     "name": "stdout",
     "output_type": "stream",
     "text": [
      "Clicked on Ad\n",
      "1    112\n",
      "0     88\n",
      "Name: count, dtype: int64\n"
     ]
    }
   ],
   "source": [
    "train = data.iloc[:800]\n",
    "test = data.iloc[800:]\n",
    "#what is the baseline?\n",
    "#print(data['Clicked on Ad'].value_counts())\n",
    "print(test['Clicked on Ad'].value_counts())"
   ]
  },
  {
   "cell_type": "markdown",
   "metadata": {},
   "source": [
    "### Baseline#2: Same past value\n",
    "- What if same Xs and they have differnt Y?\n",
    "- What if there is unseen sample in new data?"
   ]
  },
  {
   "cell_type": "markdown",
   "metadata": {},
   "source": [
    "## Interpreting the classification result"
   ]
  },
  {
   "cell_type": "code",
   "execution_count": 4,
   "metadata": {},
   "outputs": [
    {
     "data": {
      "text/plain": [
       "array([1, 1, 1, 1, 1, 0, 1, 1, 1, 1, 1, 0, 0, 0, 0, 0, 1, 0, 0, 0, 1, 0,\n",
       "       0, 0, 0, 0, 0, 1, 1, 1, 1, 1, 1, 1, 0, 0, 1, 1, 1, 1, 1, 1, 0, 0,\n",
       "       0, 1, 1, 0, 0, 1, 0, 1, 1, 0, 0, 0, 0, 0, 1, 0, 1, 0, 0, 0, 1, 1,\n",
       "       0, 0, 0, 0, 0, 0, 0, 0, 0, 1, 1, 0, 0, 0, 1, 0, 0, 1, 0, 1, 1, 1,\n",
       "       0, 1, 0, 0, 1, 0, 0, 0, 0, 1, 1, 1, 1, 1, 1, 0, 0, 0, 1, 0, 1, 0,\n",
       "       1, 1, 1, 0, 1, 1, 1, 0, 0, 0, 0, 1, 1, 1, 1, 1, 0, 0, 0, 1, 0, 1,\n",
       "       1, 1, 0, 0, 1, 1, 1, 0, 1, 1, 1, 1, 1, 0, 0, 1, 0, 1, 1, 0, 0, 1,\n",
       "       0, 1, 1, 0, 0, 0, 1, 0, 0, 0, 0, 1, 1, 0, 1, 0, 1, 1, 1, 0, 1, 1,\n",
       "       1, 1, 0, 0, 1, 1, 1, 0, 0, 1, 0, 1, 1, 0, 1, 1, 1, 0, 0, 0, 1, 1,\n",
       "       0, 0])"
      ]
     },
     "execution_count": 4,
     "metadata": {},
     "output_type": "execute_result"
    }
   ],
   "source": [
    "non_num_cols = ['Ad Topic Line','Country','City','Male','Timestamp','Clicked on Ad']\n",
    "X_train = train.drop(non_num_cols,axis='columns')\n",
    "X_test = test.drop(non_num_cols,axis='columns')\n",
    "y_train = train['Clicked on Ad']\n",
    "y_test = test['Clicked on Ad']\n",
    "from sklearn.linear_model import LogisticRegression\n",
    "clf = LogisticRegression()\n",
    "clf.fit(X_train,y_train)\n",
    "y_pred = clf.predict(X_test)\n",
    "y_pred"
   ]
  },
  {
   "cell_type": "markdown",
   "metadata": {},
   "source": [
    "How could we evaluate this prediction performance?"
   ]
  },
  {
   "cell_type": "code",
   "execution_count": 5,
   "metadata": {},
   "outputs": [
    {
     "data": {
      "text/html": [
       "<div>\n",
       "<style scoped>\n",
       "    .dataframe tbody tr th:only-of-type {\n",
       "        vertical-align: middle;\n",
       "    }\n",
       "\n",
       "    .dataframe tbody tr th {\n",
       "        vertical-align: top;\n",
       "    }\n",
       "\n",
       "    .dataframe thead th {\n",
       "        text-align: right;\n",
       "    }\n",
       "</style>\n",
       "<table border=\"1\" class=\"dataframe\">\n",
       "  <thead>\n",
       "    <tr style=\"text-align: right;\">\n",
       "      <th></th>\n",
       "      <th>Clicked on Ad</th>\n",
       "      <th>prediction</th>\n",
       "    </tr>\n",
       "  </thead>\n",
       "  <tbody>\n",
       "    <tr>\n",
       "      <th>0</th>\n",
       "      <td>1</td>\n",
       "      <td>1</td>\n",
       "    </tr>\n",
       "    <tr>\n",
       "      <th>1</th>\n",
       "      <td>1</td>\n",
       "      <td>1</td>\n",
       "    </tr>\n",
       "    <tr>\n",
       "      <th>2</th>\n",
       "      <td>1</td>\n",
       "      <td>1</td>\n",
       "    </tr>\n",
       "    <tr>\n",
       "      <th>3</th>\n",
       "      <td>1</td>\n",
       "      <td>1</td>\n",
       "    </tr>\n",
       "    <tr>\n",
       "      <th>4</th>\n",
       "      <td>1</td>\n",
       "      <td>1</td>\n",
       "    </tr>\n",
       "    <tr>\n",
       "      <th>...</th>\n",
       "      <td>...</td>\n",
       "      <td>...</td>\n",
       "    </tr>\n",
       "    <tr>\n",
       "      <th>195</th>\n",
       "      <td>1</td>\n",
       "      <td>0</td>\n",
       "    </tr>\n",
       "    <tr>\n",
       "      <th>196</th>\n",
       "      <td>1</td>\n",
       "      <td>1</td>\n",
       "    </tr>\n",
       "    <tr>\n",
       "      <th>197</th>\n",
       "      <td>1</td>\n",
       "      <td>1</td>\n",
       "    </tr>\n",
       "    <tr>\n",
       "      <th>198</th>\n",
       "      <td>0</td>\n",
       "      <td>0</td>\n",
       "    </tr>\n",
       "    <tr>\n",
       "      <th>199</th>\n",
       "      <td>1</td>\n",
       "      <td>0</td>\n",
       "    </tr>\n",
       "  </tbody>\n",
       "</table>\n",
       "<p>200 rows × 2 columns</p>\n",
       "</div>"
      ],
      "text/plain": [
       "     Clicked on Ad  prediction\n",
       "0                1           1\n",
       "1                1           1\n",
       "2                1           1\n",
       "3                1           1\n",
       "4                1           1\n",
       "..             ...         ...\n",
       "195              1           0\n",
       "196              1           1\n",
       "197              1           1\n",
       "198              0           0\n",
       "199              1           0\n",
       "\n",
       "[200 rows x 2 columns]"
      ]
     },
     "execution_count": 5,
     "metadata": {},
     "output_type": "execute_result"
    }
   ],
   "source": [
    "result = pd.concat([y_test.reset_index(drop = True),pd.Series(y_pred).rename('prediction')],axis = 'columns')\n",
    "result"
   ]
  },
  {
   "cell_type": "code",
   "execution_count": 6,
   "metadata": {},
   "outputs": [
    {
     "name": "stdout",
     "output_type": "stream",
     "text": [
      "accuracy = 0.92\n"
     ]
    }
   ],
   "source": [
    "print(\"accuracy = %s\"%str(sum(result['Clicked on Ad']==result['prediction'])/len(result)))"
   ]
  },
  {
   "cell_type": "markdown",
   "metadata": {},
   "source": [
    "### The \"confusion matrix\""
   ]
  },
  {
   "cell_type": "code",
   "execution_count": 7,
   "metadata": {},
   "outputs": [
    {
     "data": {
      "text/html": [
       "<div>\n",
       "<style scoped>\n",
       "    .dataframe tbody tr th:only-of-type {\n",
       "        vertical-align: middle;\n",
       "    }\n",
       "\n",
       "    .dataframe tbody tr th {\n",
       "        vertical-align: top;\n",
       "    }\n",
       "\n",
       "    .dataframe thead th {\n",
       "        text-align: right;\n",
       "    }\n",
       "</style>\n",
       "<table border=\"1\" class=\"dataframe\">\n",
       "  <thead>\n",
       "    <tr style=\"text-align: right;\">\n",
       "      <th></th>\n",
       "      <th>pred_0</th>\n",
       "      <th>pred_1</th>\n",
       "    </tr>\n",
       "  </thead>\n",
       "  <tbody>\n",
       "    <tr>\n",
       "      <th>actual_0</th>\n",
       "      <td>85</td>\n",
       "      <td>3</td>\n",
       "    </tr>\n",
       "    <tr>\n",
       "      <th>acutal_1</th>\n",
       "      <td>13</td>\n",
       "      <td>99</td>\n",
       "    </tr>\n",
       "  </tbody>\n",
       "</table>\n",
       "</div>"
      ],
      "text/plain": [
       "          pred_0  pred_1\n",
       "actual_0      85       3\n",
       "acutal_1      13      99"
      ]
     },
     "execution_count": 7,
     "metadata": {},
     "output_type": "execute_result"
    }
   ],
   "source": [
    "from sklearn.metrics import confusion_matrix\n",
    "pd.DataFrame(confusion_matrix(y_test,y_pred),index=['actual_0','acutal_1'],columns = ['pred_0','pred_1'])"
   ]
  },
  {
   "cell_type": "markdown",
   "metadata": {},
   "source": [
    "### Common classification performance metrics derived from confusion matrix"
   ]
  },
  {
   "cell_type": "markdown",
   "metadata": {},
   "source": [
    "#### `accuracy` = $\\frac{correct}{all} = \\frac{(predict\\ true\\ and\\ actuall\\ true) +(predict\\ false\\ and\\ actual\\ false) }{all} = \\frac{85+99}{85+3+13+99} = 0.92$  \n",
    "#### `precision` = $\\frac{actual\\ true\\ and\\ predict\\ true}{predict true} = \\frac{99}{3+99}$  \n",
    "#### `recall` = $\\frac{actual\\ true\\ and\\ predict\\ true}{actual\\ true} = \\frac{99}{13+99}$  \n",
    "To consider both precision and recall in one place, we could use F1 score\n",
    "#### `F1 socre` = $\\frac{1}{\\frac{1}{precision}\\ \\ \\ +\\  \\frac{1}{recall}}$"
   ]
  },
  {
   "cell_type": "code",
   "execution_count": 8,
   "metadata": {},
   "outputs": [
    {
     "name": "stdout",
     "output_type": "stream",
     "text": [
      "              precision    recall  f1-score   support\n",
      "\n",
      "           0       0.87      0.97      0.91        88\n",
      "           1       0.97      0.88      0.93       112\n",
      "\n",
      "    accuracy                           0.92       200\n",
      "   macro avg       0.92      0.92      0.92       200\n",
      "weighted avg       0.93      0.92      0.92       200\n",
      "\n"
     ]
    }
   ],
   "source": [
    "from sklearn.metrics import classification_report\n",
    "print(classification_report(y_test,y_pred))"
   ]
  },
  {
   "cell_type": "markdown",
   "metadata": {},
   "source": [
    "----\n",
    "### `The cut off value/threshold`  \n",
    "If we were asked to manually make prediction. From time to time there will be some samples not so easy to make prediction on. \n",
    "\n",
    "<div>\n",
    "<img src=\"./dogvsfired.jpg\" width=\"400\"/><img src=\"./dogvsbread.jpg\" width=\"400\"/>\n",
    "</div>\n",
    "\n",
    "Also for some context we want to make bold prediction(e.g. marketing) and sometimes we would rather be conservative(e.g. predicting crime). \n",
    "\n",
    "- Can we adjust our classifier to make bolder/more conservative prediction?  \n",
    "---->For most classification methos, they actually produce **probabilities/possibility for each class**. Later they assign label on **cutoff** values."
   ]
  },
  {
   "cell_type": "code",
   "execution_count": 9,
   "metadata": {},
   "outputs": [
    {
     "name": "stdout",
     "output_type": "stream",
     "text": [
      "1    102\n",
      "0     98\n",
      "Name: count, dtype: int64\n"
     ]
    },
    {
     "data": {
      "text/html": [
       "<div>\n",
       "<style scoped>\n",
       "    .dataframe tbody tr th:only-of-type {\n",
       "        vertical-align: middle;\n",
       "    }\n",
       "\n",
       "    .dataframe tbody tr th {\n",
       "        vertical-align: top;\n",
       "    }\n",
       "\n",
       "    .dataframe thead th {\n",
       "        text-align: right;\n",
       "    }\n",
       "</style>\n",
       "<table border=\"1\" class=\"dataframe\">\n",
       "  <thead>\n",
       "    <tr style=\"text-align: right;\">\n",
       "      <th></th>\n",
       "      <th>Daily Time Spent on Site</th>\n",
       "      <th>Age</th>\n",
       "      <th>Area Income</th>\n",
       "      <th>Daily Internet Usage</th>\n",
       "      <th>pred_0_prob</th>\n",
       "      <th>pred_1_prob</th>\n",
       "      <th>prediction</th>\n",
       "    </tr>\n",
       "  </thead>\n",
       "  <tbody>\n",
       "    <tr>\n",
       "      <th>0</th>\n",
       "      <td>56.64</td>\n",
       "      <td>29</td>\n",
       "      <td>55984.89</td>\n",
       "      <td>123.24</td>\n",
       "      <td>0.444672</td>\n",
       "      <td>0.555328</td>\n",
       "      <td>1</td>\n",
       "    </tr>\n",
       "    <tr>\n",
       "      <th>1</th>\n",
       "      <td>53.33</td>\n",
       "      <td>34</td>\n",
       "      <td>44275.13</td>\n",
       "      <td>111.63</td>\n",
       "      <td>0.094598</td>\n",
       "      <td>0.905402</td>\n",
       "      <td>1</td>\n",
       "    </tr>\n",
       "    <tr>\n",
       "      <th>2</th>\n",
       "      <td>50.63</td>\n",
       "      <td>50</td>\n",
       "      <td>25767.16</td>\n",
       "      <td>142.23</td>\n",
       "      <td>0.001990</td>\n",
       "      <td>0.998010</td>\n",
       "      <td>1</td>\n",
       "    </tr>\n",
       "    <tr>\n",
       "      <th>3</th>\n",
       "      <td>41.84</td>\n",
       "      <td>49</td>\n",
       "      <td>37605.11</td>\n",
       "      <td>139.32</td>\n",
       "      <td>0.001934</td>\n",
       "      <td>0.998066</td>\n",
       "      <td>1</td>\n",
       "    </tr>\n",
       "    <tr>\n",
       "      <th>4</th>\n",
       "      <td>53.92</td>\n",
       "      <td>41</td>\n",
       "      <td>25739.09</td>\n",
       "      <td>125.46</td>\n",
       "      <td>0.016152</td>\n",
       "      <td>0.983848</td>\n",
       "      <td>1</td>\n",
       "    </tr>\n",
       "  </tbody>\n",
       "</table>\n",
       "</div>"
      ],
      "text/plain": [
       "   Daily Time Spent on Site  Age  Area Income  Daily Internet Usage  \\\n",
       "0                     56.64   29     55984.89                123.24   \n",
       "1                     53.33   34     44275.13                111.63   \n",
       "2                     50.63   50     25767.16                142.23   \n",
       "3                     41.84   49     37605.11                139.32   \n",
       "4                     53.92   41     25739.09                125.46   \n",
       "\n",
       "   pred_0_prob  pred_1_prob  prediction  \n",
       "0     0.444672     0.555328           1  \n",
       "1     0.094598     0.905402           1  \n",
       "2     0.001990     0.998010           1  \n",
       "3     0.001934     0.998066           1  \n",
       "4     0.016152     0.983848           1  "
      ]
     },
     "execution_count": 9,
     "metadata": {},
     "output_type": "execute_result"
    }
   ],
   "source": [
    "# These are the prediction results from our classifer, use 0.5 as cutoff value \n",
    "pred_proba = pd.DataFrame(clf.predict_proba(X_test),columns = ['pred_0_prob','pred_1_prob'])\n",
    "test_merged = pd.concat([X_test.reset_index(drop = True),pred_proba,pd.Series(y_pred).rename('prediction')],axis = 'columns')\n",
    "print(pd.Series(y_pred).value_counts())\n",
    "test_merged.head()"
   ]
  },
  {
   "cell_type": "markdown",
   "metadata": {},
   "source": [
    "Now, we change the threshold "
   ]
  },
  {
   "cell_type": "code",
   "execution_count": 10,
   "metadata": {},
   "outputs": [
    {
     "name": "stdout",
     "output_type": "stream",
     "text": [
      "pred_1_prob\n",
      "0    126\n",
      "1     74\n",
      "Name: count, dtype: int64\n"
     ]
    },
    {
     "data": {
      "text/html": [
       "<div>\n",
       "<style scoped>\n",
       "    .dataframe tbody tr th:only-of-type {\n",
       "        vertical-align: middle;\n",
       "    }\n",
       "\n",
       "    .dataframe tbody tr th {\n",
       "        vertical-align: top;\n",
       "    }\n",
       "\n",
       "    .dataframe thead th {\n",
       "        text-align: right;\n",
       "    }\n",
       "</style>\n",
       "<table border=\"1\" class=\"dataframe\">\n",
       "  <thead>\n",
       "    <tr style=\"text-align: right;\">\n",
       "      <th></th>\n",
       "      <th>Daily Time Spent on Site</th>\n",
       "      <th>Age</th>\n",
       "      <th>Area Income</th>\n",
       "      <th>Daily Internet Usage</th>\n",
       "      <th>pred_0_prob</th>\n",
       "      <th>pred_1_prob</th>\n",
       "      <th>prediction</th>\n",
       "    </tr>\n",
       "  </thead>\n",
       "  <tbody>\n",
       "    <tr>\n",
       "      <th>0</th>\n",
       "      <td>56.64</td>\n",
       "      <td>29</td>\n",
       "      <td>55984.89</td>\n",
       "      <td>123.24</td>\n",
       "      <td>0.444672</td>\n",
       "      <td>0.555328</td>\n",
       "      <td>0</td>\n",
       "    </tr>\n",
       "    <tr>\n",
       "      <th>1</th>\n",
       "      <td>53.33</td>\n",
       "      <td>34</td>\n",
       "      <td>44275.13</td>\n",
       "      <td>111.63</td>\n",
       "      <td>0.094598</td>\n",
       "      <td>0.905402</td>\n",
       "      <td>1</td>\n",
       "    </tr>\n",
       "    <tr>\n",
       "      <th>2</th>\n",
       "      <td>50.63</td>\n",
       "      <td>50</td>\n",
       "      <td>25767.16</td>\n",
       "      <td>142.23</td>\n",
       "      <td>0.001990</td>\n",
       "      <td>0.998010</td>\n",
       "      <td>1</td>\n",
       "    </tr>\n",
       "    <tr>\n",
       "      <th>3</th>\n",
       "      <td>41.84</td>\n",
       "      <td>49</td>\n",
       "      <td>37605.11</td>\n",
       "      <td>139.32</td>\n",
       "      <td>0.001934</td>\n",
       "      <td>0.998066</td>\n",
       "      <td>1</td>\n",
       "    </tr>\n",
       "    <tr>\n",
       "      <th>4</th>\n",
       "      <td>53.92</td>\n",
       "      <td>41</td>\n",
       "      <td>25739.09</td>\n",
       "      <td>125.46</td>\n",
       "      <td>0.016152</td>\n",
       "      <td>0.983848</td>\n",
       "      <td>1</td>\n",
       "    </tr>\n",
       "  </tbody>\n",
       "</table>\n",
       "</div>"
      ],
      "text/plain": [
       "   Daily Time Spent on Site  Age  Area Income  Daily Internet Usage  \\\n",
       "0                     56.64   29     55984.89                123.24   \n",
       "1                     53.33   34     44275.13                111.63   \n",
       "2                     50.63   50     25767.16                142.23   \n",
       "3                     41.84   49     37605.11                139.32   \n",
       "4                     53.92   41     25739.09                125.46   \n",
       "\n",
       "   pred_0_prob  pred_1_prob  prediction  \n",
       "0     0.444672     0.555328           0  \n",
       "1     0.094598     0.905402           1  \n",
       "2     0.001990     0.998010           1  \n",
       "3     0.001934     0.998066           1  \n",
       "4     0.016152     0.983848           1  "
      ]
     },
     "execution_count": 10,
     "metadata": {},
     "output_type": "execute_result"
    }
   ],
   "source": [
    "threshold = 0.9\n",
    "conservative_y_pred = (pred_proba['pred_1_prob']>threshold).astype(int)\n",
    "conservative_test_merged = pd.concat([X_test.reset_index(drop = True),pred_proba,pd.Series(conservative_y_pred).rename('prediction')],axis = 'columns')\n",
    "print(pd.Series(conservative_y_pred).value_counts())\n",
    "conservative_test_merged.head()"
   ]
  },
  {
   "cell_type": "markdown",
   "metadata": {},
   "source": [
    "- How could we evaluate such classifier?"
   ]
  },
  {
   "cell_type": "code",
   "execution_count": 11,
   "metadata": {},
   "outputs": [
    {
     "name": "stdout",
     "output_type": "stream",
     "text": [
      "              precision    recall  f1-score   support\n",
      "\n",
      "           0       0.70      1.00      0.82        88\n",
      "           1       1.00      0.66      0.80       112\n",
      "\n",
      "    accuracy                           0.81       200\n",
      "   macro avg       0.85      0.83      0.81       200\n",
      "weighted avg       0.87      0.81      0.81       200\n",
      "\n"
     ]
    }
   ],
   "source": [
    "print(classification_report(y_test,conservative_y_pred))"
   ]
  },
  {
   "cell_type": "markdown",
   "metadata": {},
   "source": [
    "We could also try other thresholds to see which best fit your needs."
   ]
  },
  {
   "cell_type": "markdown",
   "metadata": {},
   "source": [
    "#### The \"ROC curve\"\n",
    "- Some classifier tends to be bold, some are not. How could we compare them?\n",
    "- Throughout the thresholds, we would get bunch of precisions and recalls. Can we combine them and make an overall evaluation?"
   ]
  },
  {
   "cell_type": "code",
   "execution_count": 12,
   "metadata": {},
   "outputs": [
    {
     "data": {
      "image/png": "[encoded data removed]",
      "text/plain": [
       "<Figure size 640x480 with 1 Axes>"
      ]
     },
     "metadata": {},
     "output_type": "display_data"
    },
    {
     "name": "stdout",
     "output_type": "stream",
     "text": [
      "auc: 0.9643871753246753\n"
     ]
    }
   ],
   "source": [
    "from sklearn.metrics import roc_curve, roc_auc_score\n",
    "fpr, tpr, _ = roc_curve(y_test, pred_proba['pred_1_prob'])\n",
    "import matplotlib.pyplot as plt\n",
    "plt.figure(1)\n",
    "plt.plot([0, 1], [0, 1], 'k--')\n",
    "plt.plot(fpr, tpr)\n",
    "plt.xlabel('False positive rate')\n",
    "plt.ylabel('True positive rate')\n",
    "plt.title('ROC curve')\n",
    "plt.show()\n",
    "print(\"auc: \"+str(roc_auc_score(y_test,pred_proba['pred_1_prob'])))"
   ]
  },
  {
   "cell_type": "markdown",
   "metadata": {},
   "source": [
    "# Discussion: Some topics to consider in classification performance\n",
    "Congrats! We had went through the basics of performance in binary classification. You could extend these concepts to other classification problems.\n",
    "- Accuracy paradox: When it is a problem(and when it isn't)?How to avoid it?\n",
    "- Multiclass classification: Can you find 2 metrics/charts and explain the meaning of the metrics?\n",
    "- Hierarchical classifcation: Can you find 2 metrics/charts and explain the meaning of the metrics?\n",
    "- Ranking problem: Can you find 2 metrics/charts and explain the meaning of the metrics?"
   ]
  }
 ],
 "metadata": {
  "kernelspec": {
   "display_name": "Python 3 (ipykernel)",
   "language": "python",
   "name": "python3"
  },
  "language_info": {
   "codemirror_mode": {
    "name": "ipython",
    "version": 3
   },
   "file_extension": ".py",
   "mimetype": "text/x-python",
   "name": "python",
   "nbconvert_exporter": "python",
   "pygments_lexer": "ipython3",
   "version": "3.8.7"
  }
 },
 "nbformat": 4,
 "nbformat_minor": 4
}
