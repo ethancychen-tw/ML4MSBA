{
 "cells": [
  {
   "cell_type": "markdown",
   "metadata": {},
   "source": [
    " # Features\n",
    "\n",
    "For our Article example in the first section, we knew a typical data project has these steps:\n",
    "- Define the goal, task\n",
    "- **Data preprocessing**\n",
    "- Explanatory data analysis\n",
    "- **Feature engineering**\n",
    "- Modeling\n",
    "- Performance evaluation\n",
    "\n",
    "We had gone through performance evaluation, prediction methods, better modeling and evaluation techniques. In this section, we move back to previous steps in the predictive analysis pipeline. \n",
    "\n",
    "PS Last time we mention it's ideal to do cross validation. But we would stick to train-test for the following explanation"
   ]
  },
  {
   "cell_type": "code",
   "execution_count": 1,
   "metadata": {},
   "outputs": [],
   "source": [
    "import numpy as np\n",
    "import pandas as pd\n",
    "from sklearn.model_selection import train_test_split\n",
    "import seaborn as sns\n",
    "from sklearn.tree import DecisionTreeClassifier, plot_tree\n",
    "from matplotlib import pyplot as plt"
   ]
  },
  {
   "cell_type": "markdown",
   "metadata": {},
   "source": [
    "# How the features matter?\n",
    "\n",
    "Recall predictive analysis:\n",
    "$x_1,x_2,x_3... \\to y$\n",
    "\n",
    "where  \n",
    "$x_1, x_2, x_3...$ features could be numerical or categorical  \n",
    "$y$ could be categorical or numberical\n",
    "\n",
    "**What kinds of features these methods could take?**\n",
    "\n",
    "- KNN \n",
    "- Linear regression\n",
    "- Decision tree\n",
    "\n",
    "Today we would discuss about these questions.\n",
    "### Question: What if our data contains missing value?  \n",
    "### Question: What if our data contains other data types? What if there is a featue recording date? text?  "
   ]
  },
  {
   "cell_type": "markdown",
   "metadata": {},
   "source": [
    "# Missing Value Handling\n",
    "Oftenly, data contains a bunch of blanks in some records this is called missing value.\n",
    "\n",
    "### Let's take a look on titanic dataset last time"
   ]
  },
  {
   "cell_type": "code",
   "execution_count": 2,
   "metadata": {},
   "outputs": [
    {
     "data": {
      "text/html": [
       "<div>\n",
       "<style scoped>\n",
       "    .dataframe tbody tr th:only-of-type {\n",
       "        vertical-align: middle;\n",
       "    }\n",
       "\n",
       "    .dataframe tbody tr th {\n",
       "        vertical-align: top;\n",
       "    }\n",
       "\n",
       "    .dataframe thead th {\n",
       "        text-align: right;\n",
       "    }\n",
       "</style>\n",
       "<table border=\"1\" class=\"dataframe\">\n",
       "  <thead>\n",
       "    <tr style=\"text-align: right;\">\n",
       "      <th></th>\n",
       "      <th>PassengerId</th>\n",
       "      <th>Survived</th>\n",
       "      <th>Pclass</th>\n",
       "      <th>Name</th>\n",
       "      <th>Sex</th>\n",
       "      <th>Age</th>\n",
       "      <th>SibSp</th>\n",
       "      <th>Parch</th>\n",
       "      <th>Ticket</th>\n",
       "      <th>Fare</th>\n",
       "      <th>Cabin</th>\n",
       "      <th>Embarked</th>\n",
       "    </tr>\n",
       "  </thead>\n",
       "  <tbody>\n",
       "    <tr>\n",
       "      <th>0</th>\n",
       "      <td>1</td>\n",
       "      <td>0</td>\n",
       "      <td>3</td>\n",
       "      <td>Braund, Mr. Owen Harris</td>\n",
       "      <td>male</td>\n",
       "      <td>22.0</td>\n",
       "      <td>1</td>\n",
       "      <td>0</td>\n",
       "      <td>A/5 21171</td>\n",
       "      <td>7.2500</td>\n",
       "      <td>NaN</td>\n",
       "      <td>S</td>\n",
       "    </tr>\n",
       "    <tr>\n",
       "      <th>1</th>\n",
       "      <td>2</td>\n",
       "      <td>1</td>\n",
       "      <td>1</td>\n",
       "      <td>Cumings, Mrs. John Bradley (Florence Briggs Th...</td>\n",
       "      <td>female</td>\n",
       "      <td>38.0</td>\n",
       "      <td>1</td>\n",
       "      <td>0</td>\n",
       "      <td>PC 17599</td>\n",
       "      <td>71.2833</td>\n",
       "      <td>C85</td>\n",
       "      <td>C</td>\n",
       "    </tr>\n",
       "    <tr>\n",
       "      <th>2</th>\n",
       "      <td>3</td>\n",
       "      <td>1</td>\n",
       "      <td>3</td>\n",
       "      <td>Heikkinen, Miss. Laina</td>\n",
       "      <td>female</td>\n",
       "      <td>26.0</td>\n",
       "      <td>0</td>\n",
       "      <td>0</td>\n",
       "      <td>STON/O2. 3101282</td>\n",
       "      <td>7.9250</td>\n",
       "      <td>NaN</td>\n",
       "      <td>S</td>\n",
       "    </tr>\n",
       "    <tr>\n",
       "      <th>3</th>\n",
       "      <td>4</td>\n",
       "      <td>1</td>\n",
       "      <td>1</td>\n",
       "      <td>Futrelle, Mrs. Jacques Heath (Lily May Peel)</td>\n",
       "      <td>female</td>\n",
       "      <td>35.0</td>\n",
       "      <td>1</td>\n",
       "      <td>0</td>\n",
       "      <td>113803</td>\n",
       "      <td>53.1000</td>\n",
       "      <td>C123</td>\n",
       "      <td>S</td>\n",
       "    </tr>\n",
       "    <tr>\n",
       "      <th>4</th>\n",
       "      <td>5</td>\n",
       "      <td>0</td>\n",
       "      <td>3</td>\n",
       "      <td>Allen, Mr. William Henry</td>\n",
       "      <td>male</td>\n",
       "      <td>35.0</td>\n",
       "      <td>0</td>\n",
       "      <td>0</td>\n",
       "      <td>373450</td>\n",
       "      <td>8.0500</td>\n",
       "      <td>NaN</td>\n",
       "      <td>S</td>\n",
       "    </tr>\n",
       "  </tbody>\n",
       "</table>\n",
       "</div>"
      ],
      "text/plain": [
       "   PassengerId  Survived  Pclass  \\\n",
       "0            1         0       3   \n",
       "1            2         1       1   \n",
       "2            3         1       3   \n",
       "3            4         1       1   \n",
       "4            5         0       3   \n",
       "\n",
       "                                                Name     Sex   Age  SibSp  \\\n",
       "0                            Braund, Mr. Owen Harris    male  22.0      1   \n",
       "1  Cumings, Mrs. John Bradley (Florence Briggs Th...  female  38.0      1   \n",
       "2                             Heikkinen, Miss. Laina  female  26.0      0   \n",
       "3       Futrelle, Mrs. Jacques Heath (Lily May Peel)  female  35.0      1   \n",
       "4                           Allen, Mr. William Henry    male  35.0      0   \n",
       "\n",
       "   Parch            Ticket     Fare Cabin Embarked  \n",
       "0      0         A/5 21171   7.2500   NaN        S  \n",
       "1      0          PC 17599  71.2833   C85        C  \n",
       "2      0  STON/O2. 3101282   7.9250   NaN        S  \n",
       "3      0            113803  53.1000  C123        S  \n",
       "4      0            373450   8.0500   NaN        S  "
      ]
     },
     "execution_count": 2,
     "metadata": {},
     "output_type": "execute_result"
    }
   ],
   "source": [
    "titanic = pd.read_csv(\"../datasets/titanic_train.csv\")\n",
    "titanic.head()"
   ]
  },
  {
   "cell_type": "code",
   "execution_count": 3,
   "metadata": {},
   "outputs": [
    {
     "name": "stdout",
     "output_type": "stream",
     "text": [
      "<class 'pandas.core.frame.DataFrame'>\n",
      "RangeIndex: 891 entries, 0 to 890\n",
      "Data columns (total 12 columns):\n",
      " #   Column       Non-Null Count  Dtype  \n",
      "---  ------       --------------  -----  \n",
      " 0   PassengerId  891 non-null    int64  \n",
      " 1   Survived     891 non-null    int64  \n",
      " 2   Pclass       891 non-null    int64  \n",
      " 3   Name         891 non-null    object \n",
      " 4   Sex          891 non-null    object \n",
      " 5   Age          714 non-null    float64\n",
      " 6   SibSp        891 non-null    int64  \n",
      " 7   Parch        891 non-null    int64  \n",
      " 8   Ticket       891 non-null    object \n",
      " 9   Fare         891 non-null    float64\n",
      " 10  Cabin        204 non-null    object \n",
      " 11  Embarked     889 non-null    object \n",
      "dtypes: float64(2), int64(5), object(5)\n",
      "memory usage: 83.7+ KB\n"
     ]
    }
   ],
   "source": [
    "titanic.info()"
   ]
  },
  {
   "cell_type": "markdown",
   "metadata": {},
   "source": [
    "Among 891 passengers, some of them lack `Age` and there are lots of missing in `Cabin`.\n",
    "### Take another look on Article data set from iLong"
   ]
  },
  {
   "cell_type": "code",
   "execution_count": 4,
   "metadata": {},
   "outputs": [
    {
     "name": "stdout",
     "output_type": "stream",
     "text": [
      "<class 'pandas.core.frame.DataFrame'>\n",
      "RangeIndex: 3482 entries, 0 to 3481\n",
      "Data columns (total 17 columns):\n",
      " #   Column          Non-Null Count  Dtype  \n",
      "---  ------          --------------  -----  \n",
      " 0   ArticleID       3482 non-null   int64  \n",
      " 1   ExpertID        3482 non-null   int64  \n",
      " 2   CategoryID      3482 non-null   int64  \n",
      " 3   Subject         3482 non-null   object \n",
      " 4   Thumbnail       3480 non-null   object \n",
      " 5   PostTime        3482 non-null   object \n",
      " 6   ClickCount      3482 non-null   int64  \n",
      " 7   ReadBook        25 non-null     float64\n",
      " 8   CreateUserID    2279 non-null   float64\n",
      " 9   CreateUserName  2279 non-null   object \n",
      " 10  CreateTime      2279 non-null   object \n",
      " 11  ModifyUserID    3482 non-null   int64  \n",
      " 12  ModifyUserName  3482 non-null   object \n",
      " 13  ModifyTime      3482 non-null   object \n",
      " 14  SubCategoryID   0 non-null      float64\n",
      " 15  PlatformType    3482 non-null   int64  \n",
      " 16  DeleteStatus    3482 non-null   int64  \n",
      "dtypes: float64(3), int64(7), object(7)\n",
      "memory usage: 462.6+ KB\n"
     ]
    }
   ],
   "source": [
    "article = pd.read_csv(\"../datasets/Article.csv\")\n",
    "article.info()"
   ]
  },
  {
   "cell_type": "code",
   "execution_count": null,
   "metadata": {},
   "outputs": [],
   "source": []
  },
  {
   "cell_type": "markdown",
   "metadata": {},
   "source": [
    "### Question: Why missing value handling important?\n",
    "- For prediction: Our prediction model is $x_1, x_2...\\to y$ If a record contains missing values, how could our model predict that?\n",
    "- For training: Could our method handle missing value properly?\n",
    "\n",
    "### Question: In pratice, missing value happens. Why?\n",
    "\n",
    "## 3 types of reasons why missing happen\n",
    "- Missing Completely at Random (MCAR): The fact that a certain value is missing has nothing to do with its hypothetical value and with the values of other variables.\n",
    "- Missing at Random (MAR): Missing at random means that the propensity for a data point to be missing is not related to the missing data, but it is related to some of the observed data\n",
    "- Missing not at Random (MNAR): Two possible reasons are that the missing value depends on the hypothetical value (e.g. People with high salaries generally do not want to reveal their incomes in surveys) or missing value is dependent on some other variable’s value (e.g. Let’s assume that females generally don’t want to reveal their ages! Here the missing value in age variable is impacted by gender variable)\n",
    "source: https://towardsdatascience.com/how-to-handle-missing-data-8646b18db0d4\n",
    "\n",
    "## Missing value handling\n",
    "\n",
    "The following are some common methods for missing value handling\n",
    "- Drop record: careful for distortion\n",
    "- Imputation\n",
    "    - Impute by single value\n",
    "        - Numerical: 0, mean, median...\n",
    "        - Categorical: \"na\",mode...\n",
    "    - Other imputation methods\n",
    "        - asign distribution\n",
    "        - model impute\n",
    "        - transform into isna column and imputed\n",
    "- Neglect: some method interplay with nans e.g.xgboost nan split\n",
    "\n",
    "### Question: How to decide which method to use?\n",
    "Here's my view\n",
    "- Missing reason: how the data for the feature was collected\n",
    "- Data condition: value distribution, how much data we have\n",
    "- Prediction method: Is the method consistent with the algorithm you are going to use? \n",
    "\n",
    "**Should have some recipes for the last 2, or else you would forget when implementing**\n",
    "\n",
    "### Question: If we'd like to impute a feature by its mean, which mean is it? How to impute testing data?\n",
    "*Data leakage: Data leakage is when information from outside the training dataset is used to create the model*\n"
   ]
  },
  {
   "cell_type": "code",
   "execution_count": 5,
   "metadata": {},
   "outputs": [],
   "source": [
    "np.random.seed(1)\n",
    "X_train, X_test, y_train, y_test = train_test_split(titanic.drop('Survived',axis = 'columns'),titanic['Survived'])"
   ]
  },
  {
   "cell_type": "code",
   "execution_count": 6,
   "metadata": {},
   "outputs": [
    {
     "name": "stdout",
     "output_type": "stream",
     "text": [
      "<class 'pandas.core.frame.DataFrame'>\n",
      "Index: 668 entries, 35 to 37\n",
      "Data columns (total 11 columns):\n",
      " #   Column       Non-Null Count  Dtype  \n",
      "---  ------       --------------  -----  \n",
      " 0   PassengerId  668 non-null    int64  \n",
      " 1   Pclass       668 non-null    int64  \n",
      " 2   Name         668 non-null    object \n",
      " 3   Sex          668 non-null    object \n",
      " 4   Age          535 non-null    float64\n",
      " 5   SibSp        668 non-null    int64  \n",
      " 6   Parch        668 non-null    int64  \n",
      " 7   Ticket       668 non-null    object \n",
      " 8   Fare         668 non-null    float64\n",
      " 9   Cabin        149 non-null    object \n",
      " 10  Embarked     667 non-null    object \n",
      "dtypes: float64(2), int64(4), object(5)\n",
      "memory usage: 62.6+ KB\n"
     ]
    }
   ],
   "source": [
    "X_train.info()"
   ]
  },
  {
   "cell_type": "code",
   "execution_count": 7,
   "metadata": {},
   "outputs": [
    {
     "name": "stdout",
     "output_type": "stream",
     "text": [
      "<class 'pandas.core.frame.DataFrame'>\n",
      "Index: 223 entries, 862 to 449\n",
      "Data columns (total 11 columns):\n",
      " #   Column       Non-Null Count  Dtype  \n",
      "---  ------       --------------  -----  \n",
      " 0   PassengerId  223 non-null    int64  \n",
      " 1   Pclass       223 non-null    int64  \n",
      " 2   Name         223 non-null    object \n",
      " 3   Sex          223 non-null    object \n",
      " 4   Age          179 non-null    float64\n",
      " 5   SibSp        223 non-null    int64  \n",
      " 6   Parch        223 non-null    int64  \n",
      " 7   Ticket       223 non-null    object \n",
      " 8   Fare         223 non-null    float64\n",
      " 9   Cabin        55 non-null     object \n",
      " 10  Embarked     222 non-null    object \n",
      "dtypes: float64(2), int64(4), object(5)\n",
      "memory usage: 20.9+ KB\n"
     ]
    }
   ],
   "source": [
    "X_test.info()"
   ]
  },
  {
   "cell_type": "code",
   "execution_count": 8,
   "metadata": {},
   "outputs": [
    {
     "name": "stdout",
     "output_type": "stream",
     "text": [
      "age mean in whole data: 29.69911764705882\n",
      "age mean in training data: 30.073682242990653\n"
     ]
    }
   ],
   "source": [
    "whole_data_age_mean = titanic['Age'].mean()\n",
    "print(\"age mean in whole data: %s\"%whole_data_age_mean)\n",
    "train_age_mean = X_train['Age'].mean()\n",
    "print(\"age mean in training data: %s\"%train_age_mean)"
   ]
  },
  {
   "cell_type": "code",
   "execution_count": 9,
   "metadata": {},
   "outputs": [],
   "source": [
    "# drop col Cabin\n",
    "X_train.drop('Cabin',axis = 'columns',inplace = True)\n",
    "X_test.drop('Cabin',axis = 'columns',inplace = True)\n",
    "\n",
    "# impute Age by train age mean\n",
    "X_train['Age'].fillna(train_age_mean,inplace = True)\n",
    "X_test['Age'].fillna(train_age_mean,inplace = True)"
   ]
  },
  {
   "cell_type": "code",
   "execution_count": 10,
   "metadata": {},
   "outputs": [
    {
     "data": {
      "text/html": [
       "<div>\n",
       "<style scoped>\n",
       "    .dataframe tbody tr th:only-of-type {\n",
       "        vertical-align: middle;\n",
       "    }\n",
       "\n",
       "    .dataframe tbody tr th {\n",
       "        vertical-align: top;\n",
       "    }\n",
       "\n",
       "    .dataframe thead th {\n",
       "        text-align: right;\n",
       "    }\n",
       "</style>\n",
       "<table border=\"1\" class=\"dataframe\">\n",
       "  <thead>\n",
       "    <tr style=\"text-align: right;\">\n",
       "      <th></th>\n",
       "      <th>PassengerId</th>\n",
       "      <th>Pclass</th>\n",
       "      <th>Name</th>\n",
       "      <th>Sex</th>\n",
       "      <th>Age</th>\n",
       "      <th>SibSp</th>\n",
       "      <th>Parch</th>\n",
       "      <th>Ticket</th>\n",
       "      <th>Fare</th>\n",
       "      <th>Embarked</th>\n",
       "    </tr>\n",
       "  </thead>\n",
       "  <tbody>\n",
       "    <tr>\n",
       "      <th>35</th>\n",
       "      <td>36</td>\n",
       "      <td>1</td>\n",
       "      <td>Holverson, Mr. Alexander Oskar</td>\n",
       "      <td>male</td>\n",
       "      <td>42.000000</td>\n",
       "      <td>1</td>\n",
       "      <td>0</td>\n",
       "      <td>113789</td>\n",
       "      <td>52.0000</td>\n",
       "      <td>S</td>\n",
       "    </tr>\n",
       "    <tr>\n",
       "      <th>46</th>\n",
       "      <td>47</td>\n",
       "      <td>3</td>\n",
       "      <td>Lennon, Mr. Denis</td>\n",
       "      <td>male</td>\n",
       "      <td>30.073682</td>\n",
       "      <td>1</td>\n",
       "      <td>0</td>\n",
       "      <td>370371</td>\n",
       "      <td>15.5000</td>\n",
       "      <td>Q</td>\n",
       "    </tr>\n",
       "    <tr>\n",
       "      <th>453</th>\n",
       "      <td>454</td>\n",
       "      <td>1</td>\n",
       "      <td>Goldenberg, Mr. Samuel L</td>\n",
       "      <td>male</td>\n",
       "      <td>49.000000</td>\n",
       "      <td>1</td>\n",
       "      <td>0</td>\n",
       "      <td>17453</td>\n",
       "      <td>89.1042</td>\n",
       "      <td>C</td>\n",
       "    </tr>\n",
       "    <tr>\n",
       "      <th>291</th>\n",
       "      <td>292</td>\n",
       "      <td>1</td>\n",
       "      <td>Bishop, Mrs. Dickinson H (Helen Walton)</td>\n",
       "      <td>female</td>\n",
       "      <td>19.000000</td>\n",
       "      <td>1</td>\n",
       "      <td>0</td>\n",
       "      <td>11967</td>\n",
       "      <td>91.0792</td>\n",
       "      <td>C</td>\n",
       "    </tr>\n",
       "    <tr>\n",
       "      <th>748</th>\n",
       "      <td>749</td>\n",
       "      <td>1</td>\n",
       "      <td>Marvin, Mr. Daniel Warner</td>\n",
       "      <td>male</td>\n",
       "      <td>19.000000</td>\n",
       "      <td>1</td>\n",
       "      <td>0</td>\n",
       "      <td>113773</td>\n",
       "      <td>53.1000</td>\n",
       "      <td>S</td>\n",
       "    </tr>\n",
       "  </tbody>\n",
       "</table>\n",
       "</div>"
      ],
      "text/plain": [
       "     PassengerId  Pclass                                     Name     Sex  \\\n",
       "35            36       1           Holverson, Mr. Alexander Oskar    male   \n",
       "46            47       3                        Lennon, Mr. Denis    male   \n",
       "453          454       1                 Goldenberg, Mr. Samuel L    male   \n",
       "291          292       1  Bishop, Mrs. Dickinson H (Helen Walton)  female   \n",
       "748          749       1                Marvin, Mr. Daniel Warner    male   \n",
       "\n",
       "           Age  SibSp  Parch  Ticket     Fare Embarked  \n",
       "35   42.000000      1      0  113789  52.0000        S  \n",
       "46   30.073682      1      0  370371  15.5000        Q  \n",
       "453  49.000000      1      0   17453  89.1042        C  \n",
       "291  19.000000      1      0   11967  91.0792        C  \n",
       "748  19.000000      1      0  113773  53.1000        S  "
      ]
     },
     "execution_count": 10,
     "metadata": {},
     "output_type": "execute_result"
    }
   ],
   "source": [
    "X_train.head()"
   ]
  },
  {
   "cell_type": "code",
   "execution_count": 11,
   "metadata": {},
   "outputs": [
    {
     "name": "stdout",
     "output_type": "stream",
     "text": [
      "<class 'pandas.core.frame.DataFrame'>\n",
      "Index: 668 entries, 35 to 37\n",
      "Data columns (total 10 columns):\n",
      " #   Column       Non-Null Count  Dtype  \n",
      "---  ------       --------------  -----  \n",
      " 0   PassengerId  668 non-null    int64  \n",
      " 1   Pclass       668 non-null    int64  \n",
      " 2   Name         668 non-null    object \n",
      " 3   Sex          668 non-null    object \n",
      " 4   Age          668 non-null    float64\n",
      " 5   SibSp        668 non-null    int64  \n",
      " 6   Parch        668 non-null    int64  \n",
      " 7   Ticket       668 non-null    object \n",
      " 8   Fare         668 non-null    float64\n",
      " 9   Embarked     667 non-null    object \n",
      "dtypes: float64(2), int64(4), object(4)\n",
      "memory usage: 57.4+ KB\n"
     ]
    }
   ],
   "source": [
    "X_train.info()"
   ]
  },
  {
   "cell_type": "code",
   "execution_count": 12,
   "metadata": {},
   "outputs": [
    {
     "data": {
      "text/html": [
       "<div>\n",
       "<style scoped>\n",
       "    .dataframe tbody tr th:only-of-type {\n",
       "        vertical-align: middle;\n",
       "    }\n",
       "\n",
       "    .dataframe tbody tr th {\n",
       "        vertical-align: top;\n",
       "    }\n",
       "\n",
       "    .dataframe thead th {\n",
       "        text-align: right;\n",
       "    }\n",
       "</style>\n",
       "<table border=\"1\" class=\"dataframe\">\n",
       "  <thead>\n",
       "    <tr style=\"text-align: right;\">\n",
       "      <th></th>\n",
       "      <th>PassengerId</th>\n",
       "      <th>Pclass</th>\n",
       "      <th>Name</th>\n",
       "      <th>Sex</th>\n",
       "      <th>Age</th>\n",
       "      <th>SibSp</th>\n",
       "      <th>Parch</th>\n",
       "      <th>Ticket</th>\n",
       "      <th>Fare</th>\n",
       "      <th>Embarked</th>\n",
       "    </tr>\n",
       "  </thead>\n",
       "  <tbody>\n",
       "    <tr>\n",
       "      <th>862</th>\n",
       "      <td>863</td>\n",
       "      <td>1</td>\n",
       "      <td>Swift, Mrs. Frederick Joel (Margaret Welles Ba...</td>\n",
       "      <td>female</td>\n",
       "      <td>48.000000</td>\n",
       "      <td>0</td>\n",
       "      <td>0</td>\n",
       "      <td>17466</td>\n",
       "      <td>25.9292</td>\n",
       "      <td>S</td>\n",
       "    </tr>\n",
       "    <tr>\n",
       "      <th>223</th>\n",
       "      <td>224</td>\n",
       "      <td>3</td>\n",
       "      <td>Nenkoff, Mr. Christo</td>\n",
       "      <td>male</td>\n",
       "      <td>30.073682</td>\n",
       "      <td>0</td>\n",
       "      <td>0</td>\n",
       "      <td>349234</td>\n",
       "      <td>7.8958</td>\n",
       "      <td>S</td>\n",
       "    </tr>\n",
       "    <tr>\n",
       "      <th>84</th>\n",
       "      <td>85</td>\n",
       "      <td>2</td>\n",
       "      <td>Ilett, Miss. Bertha</td>\n",
       "      <td>female</td>\n",
       "      <td>17.000000</td>\n",
       "      <td>0</td>\n",
       "      <td>0</td>\n",
       "      <td>SO/C 14885</td>\n",
       "      <td>10.5000</td>\n",
       "      <td>S</td>\n",
       "    </tr>\n",
       "    <tr>\n",
       "      <th>680</th>\n",
       "      <td>681</td>\n",
       "      <td>3</td>\n",
       "      <td>Peters, Miss. Katie</td>\n",
       "      <td>female</td>\n",
       "      <td>30.073682</td>\n",
       "      <td>0</td>\n",
       "      <td>0</td>\n",
       "      <td>330935</td>\n",
       "      <td>8.1375</td>\n",
       "      <td>Q</td>\n",
       "    </tr>\n",
       "    <tr>\n",
       "      <th>535</th>\n",
       "      <td>536</td>\n",
       "      <td>2</td>\n",
       "      <td>Hart, Miss. Eva Miriam</td>\n",
       "      <td>female</td>\n",
       "      <td>7.000000</td>\n",
       "      <td>0</td>\n",
       "      <td>2</td>\n",
       "      <td>F.C.C. 13529</td>\n",
       "      <td>26.2500</td>\n",
       "      <td>S</td>\n",
       "    </tr>\n",
       "  </tbody>\n",
       "</table>\n",
       "</div>"
      ],
      "text/plain": [
       "     PassengerId  Pclass                                               Name  \\\n",
       "862          863       1  Swift, Mrs. Frederick Joel (Margaret Welles Ba...   \n",
       "223          224       3                               Nenkoff, Mr. Christo   \n",
       "84            85       2                                Ilett, Miss. Bertha   \n",
       "680          681       3                                Peters, Miss. Katie   \n",
       "535          536       2                             Hart, Miss. Eva Miriam   \n",
       "\n",
       "        Sex        Age  SibSp  Parch        Ticket     Fare Embarked  \n",
       "862  female  48.000000      0      0         17466  25.9292        S  \n",
       "223    male  30.073682      0      0        349234   7.8958        S  \n",
       "84   female  17.000000      0      0    SO/C 14885  10.5000        S  \n",
       "680  female  30.073682      0      0        330935   8.1375        Q  \n",
       "535  female   7.000000      0      2  F.C.C. 13529  26.2500        S  "
      ]
     },
     "execution_count": 12,
     "metadata": {},
     "output_type": "execute_result"
    }
   ],
   "source": [
    "X_test.head()"
   ]
  },
  {
   "cell_type": "code",
   "execution_count": 13,
   "metadata": {},
   "outputs": [
    {
     "name": "stdout",
     "output_type": "stream",
     "text": [
      "<class 'pandas.core.frame.DataFrame'>\n",
      "Index: 223 entries, 862 to 449\n",
      "Data columns (total 10 columns):\n",
      " #   Column       Non-Null Count  Dtype  \n",
      "---  ------       --------------  -----  \n",
      " 0   PassengerId  223 non-null    int64  \n",
      " 1   Pclass       223 non-null    int64  \n",
      " 2   Name         223 non-null    object \n",
      " 3   Sex          223 non-null    object \n",
      " 4   Age          223 non-null    float64\n",
      " 5   SibSp        223 non-null    int64  \n",
      " 6   Parch        223 non-null    int64  \n",
      " 7   Ticket       223 non-null    object \n",
      " 8   Fare         223 non-null    float64\n",
      " 9   Embarked     222 non-null    object \n",
      "dtypes: float64(2), int64(4), object(4)\n",
      "memory usage: 19.2+ KB\n"
     ]
    }
   ],
   "source": [
    "X_test.info()"
   ]
  },
  {
   "cell_type": "markdown",
   "metadata": {},
   "source": [
    "# Appendix: Predictive analysis pipeline\n",
    "\n",
    "The analysis pipeline we state at the begining does not specify the which data set.\n",
    "- Define the goal, task\n",
    "- **Data preprocessing**\n",
    "- Explanatory data analysis\n",
    "- **Feature engineering**\n",
    "- Modeling\n",
    "- Performance evaluation\n",
    "\n",
    "In predictive analysis, the above pipeline could be written as\n",
    "\n",
    "- Doing experiments to find a good model\n",
    "    - Data spliting\n",
    "    - train data $\\to$ data preprocessing $\\to$ EDA $\\to$ feature engineering $\\to$ modeling\n",
    "        - Store the info for data processing, model\n",
    "    - test data $\\to$ data preprocessing $\\to$ feature engineering $\\to$ performance evaluation\n",
    "        - **process test data using same setting, same info as for training data**\n",
    "\n",
    "- When you deploy the model\n",
    "    - whole original data $\\to$ data preprocessing $\\to$ feature engineering $\\to$ modeling\n",
    "\n",
    "### Question: can you draw the pipeline in the cross validation - holdout senario ?\n",
    "<div><img src=\"./grid_search_cross_validation.png\" width=\"300\"/></div>\n",
    "\n",
    "**Notes for Python sklearn users:** There is a \"Pipeline\" module that you could make use of.\n",
    "<div><img src=\"./sklearn_pipeline.jpg\" width=\"500\"/></div>"
   ]
  },
  {
   "cell_type": "markdown",
   "metadata": {},
   "source": [
    "# Feature engineering\n",
    "\n",
    "Feature engineering is one of the most time consuming step in traditional machine learning. It's more like an art rely heavily on the combination of experience and engineering. It has some purposes:\n",
    "\n",
    "- Machine learning methods limitation  \n",
    "Some machine learning methods need you to adjust data into suitable form to make them work.Take our titanic data as an example, can we use KNN on this data set? linear regression? decision tree?"
   ]
  },
  {
   "cell_type": "code",
   "execution_count": 14,
   "metadata": {},
   "outputs": [
    {
     "data": {
      "text/html": [
       "<div>\n",
       "<style scoped>\n",
       "    .dataframe tbody tr th:only-of-type {\n",
       "        vertical-align: middle;\n",
       "    }\n",
       "\n",
       "    .dataframe tbody tr th {\n",
       "        vertical-align: top;\n",
       "    }\n",
       "\n",
       "    .dataframe thead th {\n",
       "        text-align: right;\n",
       "    }\n",
       "</style>\n",
       "<table border=\"1\" class=\"dataframe\">\n",
       "  <thead>\n",
       "    <tr style=\"text-align: right;\">\n",
       "      <th></th>\n",
       "      <th>PassengerId</th>\n",
       "      <th>Pclass</th>\n",
       "      <th>Name</th>\n",
       "      <th>Sex</th>\n",
       "      <th>Age</th>\n",
       "      <th>SibSp</th>\n",
       "      <th>Parch</th>\n",
       "      <th>Ticket</th>\n",
       "      <th>Fare</th>\n",
       "      <th>Embarked</th>\n",
       "    </tr>\n",
       "  </thead>\n",
       "  <tbody>\n",
       "    <tr>\n",
       "      <th>35</th>\n",
       "      <td>36</td>\n",
       "      <td>1</td>\n",
       "      <td>Holverson, Mr. Alexander Oskar</td>\n",
       "      <td>male</td>\n",
       "      <td>42.000000</td>\n",
       "      <td>1</td>\n",
       "      <td>0</td>\n",
       "      <td>113789</td>\n",
       "      <td>52.0000</td>\n",
       "      <td>S</td>\n",
       "    </tr>\n",
       "    <tr>\n",
       "      <th>46</th>\n",
       "      <td>47</td>\n",
       "      <td>3</td>\n",
       "      <td>Lennon, Mr. Denis</td>\n",
       "      <td>male</td>\n",
       "      <td>30.073682</td>\n",
       "      <td>1</td>\n",
       "      <td>0</td>\n",
       "      <td>370371</td>\n",
       "      <td>15.5000</td>\n",
       "      <td>Q</td>\n",
       "    </tr>\n",
       "    <tr>\n",
       "      <th>453</th>\n",
       "      <td>454</td>\n",
       "      <td>1</td>\n",
       "      <td>Goldenberg, Mr. Samuel L</td>\n",
       "      <td>male</td>\n",
       "      <td>49.000000</td>\n",
       "      <td>1</td>\n",
       "      <td>0</td>\n",
       "      <td>17453</td>\n",
       "      <td>89.1042</td>\n",
       "      <td>C</td>\n",
       "    </tr>\n",
       "    <tr>\n",
       "      <th>291</th>\n",
       "      <td>292</td>\n",
       "      <td>1</td>\n",
       "      <td>Bishop, Mrs. Dickinson H (Helen Walton)</td>\n",
       "      <td>female</td>\n",
       "      <td>19.000000</td>\n",
       "      <td>1</td>\n",
       "      <td>0</td>\n",
       "      <td>11967</td>\n",
       "      <td>91.0792</td>\n",
       "      <td>C</td>\n",
       "    </tr>\n",
       "    <tr>\n",
       "      <th>748</th>\n",
       "      <td>749</td>\n",
       "      <td>1</td>\n",
       "      <td>Marvin, Mr. Daniel Warner</td>\n",
       "      <td>male</td>\n",
       "      <td>19.000000</td>\n",
       "      <td>1</td>\n",
       "      <td>0</td>\n",
       "      <td>113773</td>\n",
       "      <td>53.1000</td>\n",
       "      <td>S</td>\n",
       "    </tr>\n",
       "  </tbody>\n",
       "</table>\n",
       "</div>"
      ],
      "text/plain": [
       "     PassengerId  Pclass                                     Name     Sex  \\\n",
       "35            36       1           Holverson, Mr. Alexander Oskar    male   \n",
       "46            47       3                        Lennon, Mr. Denis    male   \n",
       "453          454       1                 Goldenberg, Mr. Samuel L    male   \n",
       "291          292       1  Bishop, Mrs. Dickinson H (Helen Walton)  female   \n",
       "748          749       1                Marvin, Mr. Daniel Warner    male   \n",
       "\n",
       "           Age  SibSp  Parch  Ticket     Fare Embarked  \n",
       "35   42.000000      1      0  113789  52.0000        S  \n",
       "46   30.073682      1      0  370371  15.5000        Q  \n",
       "453  49.000000      1      0   17453  89.1042        C  \n",
       "291  19.000000      1      0   11967  91.0792        C  \n",
       "748  19.000000      1      0  113773  53.1000        S  "
      ]
     },
     "execution_count": 14,
     "metadata": {},
     "output_type": "execute_result"
    }
   ],
   "source": [
    "X_train.head()"
   ]
  },
  {
   "cell_type": "markdown",
   "metadata": {},
   "source": [
    "- Model performance improvement\n",
    "> Feature engineering is the process of transforming data into features that better represent the underlying problem, resulting in improved machine learning performance. -- \"Feature Engineering Made Easy\" pp31\n",
    "\n",
    "### An example\n",
    "\n",
    "Too vague? Let's see the following example. Suppose we want to predict whther a person is healthy given one's height(cm) and weight(kg)."
   ]
  },
  {
   "cell_type": "code",
   "execution_count": 15,
   "metadata": {},
   "outputs": [
    {
     "data": {
      "text/html": [
       "<div>\n",
       "<style scoped>\n",
       "    .dataframe tbody tr th:only-of-type {\n",
       "        vertical-align: middle;\n",
       "    }\n",
       "\n",
       "    .dataframe tbody tr th {\n",
       "        vertical-align: top;\n",
       "    }\n",
       "\n",
       "    .dataframe thead th {\n",
       "        text-align: right;\n",
       "    }\n",
       "</style>\n",
       "<table border=\"1\" class=\"dataframe\">\n",
       "  <thead>\n",
       "    <tr style=\"text-align: right;\">\n",
       "      <th></th>\n",
       "      <th>height</th>\n",
       "      <th>weight</th>\n",
       "      <th>healthy</th>\n",
       "    </tr>\n",
       "  </thead>\n",
       "  <tbody>\n",
       "    <tr>\n",
       "      <th>0</th>\n",
       "      <td>186.243454</td>\n",
       "      <td>55.528714</td>\n",
       "      <td>0</td>\n",
       "    </tr>\n",
       "    <tr>\n",
       "      <th>1</th>\n",
       "      <td>163.882436</td>\n",
       "      <td>72.245077</td>\n",
       "      <td>0</td>\n",
       "    </tr>\n",
       "    <tr>\n",
       "      <th>2</th>\n",
       "      <td>164.718282</td>\n",
       "      <td>64.034916</td>\n",
       "      <td>1</td>\n",
       "    </tr>\n",
       "    <tr>\n",
       "      <th>3</th>\n",
       "      <td>159.270314</td>\n",
       "      <td>65.935785</td>\n",
       "      <td>0</td>\n",
       "    </tr>\n",
       "    <tr>\n",
       "      <th>4</th>\n",
       "      <td>178.654076</td>\n",
       "      <td>49.050882</td>\n",
       "      <td>0</td>\n",
       "    </tr>\n",
       "  </tbody>\n",
       "</table>\n",
       "</div>"
      ],
      "text/plain": [
       "       height     weight  healthy\n",
       "0  186.243454  55.528714        0\n",
       "1  163.882436  72.245077        0\n",
       "2  164.718282  64.034916        1\n",
       "3  159.270314  65.935785        0\n",
       "4  178.654076  49.050882        0"
      ]
     },
     "execution_count": 15,
     "metadata": {},
     "output_type": "execute_result"
    }
   ],
   "source": [
    "data_size = 100\n",
    "np.random.seed(1)\n",
    "data = pd.concat([pd.Series(np.random.normal(170,10,data_size),name = 'height'),\n",
    "                  pd.Series(np.random.normal(60,10,data_size),name = 'weight')\n",
    "                 ],axis = 'columns')\n",
    "data['kerker'] = data.apply(lambda x:x['weight']/((x['height']/100)**2),axis = 'columns')\n",
    "data['healthy'] = ((data['kerker'] < 24) & (data['kerker']>18.5)).apply(lambda x:1 if x==True else 0)\n",
    "data.drop('kerker',axis = 'columns',inplace = True)\n",
    "data.head()"
   ]
  },
  {
   "cell_type": "code",
   "execution_count": 16,
   "metadata": {},
   "outputs": [],
   "source": [
    "# data splitting\n",
    "test_size = data_size//2\n",
    "train = data.iloc[:-test_size]\n",
    "test = data.iloc[test_size:]\n",
    "X_train = train.drop('healthy',axis = 'columns')\n",
    "y_train = train['healthy']\n",
    "X_test = test.drop('healthy',axis = 'columns')\n",
    "y_test = test['healthy']"
   ]
  },
  {
   "cell_type": "markdown",
   "metadata": {},
   "source": [
    "### Some EDA"
   ]
  },
  {
   "cell_type": "code",
   "execution_count": 17,
   "metadata": {},
   "outputs": [
    {
     "name": "stdout",
     "output_type": "stream",
     "text": [
      "<class 'pandas.core.frame.DataFrame'>\n",
      "RangeIndex: 50 entries, 0 to 49\n",
      "Data columns (total 2 columns):\n",
      " #   Column  Non-Null Count  Dtype  \n",
      "---  ------  --------------  -----  \n",
      " 0   height  50 non-null     float64\n",
      " 1   weight  50 non-null     float64\n",
      "dtypes: float64(2)\n",
      "memory usage: 928.0 bytes\n"
     ]
    }
   ],
   "source": [
    "X_train.info()"
   ]
  },
  {
   "cell_type": "code",
   "execution_count": 18,
   "metadata": {},
   "outputs": [
    {
     "data": {
      "text/html": [
       "<div>\n",
       "<style scoped>\n",
       "    .dataframe tbody tr th:only-of-type {\n",
       "        vertical-align: middle;\n",
       "    }\n",
       "\n",
       "    .dataframe tbody tr th {\n",
       "        vertical-align: top;\n",
       "    }\n",
       "\n",
       "    .dataframe thead th {\n",
       "        text-align: right;\n",
       "    }\n",
       "</style>\n",
       "<table border=\"1\" class=\"dataframe\">\n",
       "  <thead>\n",
       "    <tr style=\"text-align: right;\">\n",
       "      <th></th>\n",
       "      <th>height</th>\n",
       "      <th>weight</th>\n",
       "    </tr>\n",
       "  </thead>\n",
       "  <tbody>\n",
       "    <tr>\n",
       "      <th>count</th>\n",
       "      <td>50.000000</td>\n",
       "      <td>50.000000</td>\n",
       "    </tr>\n",
       "    <tr>\n",
       "      <th>mean</th>\n",
       "      <td>169.744852</td>\n",
       "      <td>60.846589</td>\n",
       "    </tr>\n",
       "    <tr>\n",
       "      <th>std</th>\n",
       "      <td>9.794331</td>\n",
       "      <td>8.804369</td>\n",
       "    </tr>\n",
       "    <tr>\n",
       "      <th>min</th>\n",
       "      <td>146.984613</td>\n",
       "      <td>41.420181</td>\n",
       "    </tr>\n",
       "    <tr>\n",
       "      <th>25%</th>\n",
       "      <td>163.094613</td>\n",
       "      <td>54.352774</td>\n",
       "    </tr>\n",
       "    <tr>\n",
       "      <th>50%</th>\n",
       "      <td>168.178681</td>\n",
       "      <td>62.009385</td>\n",
       "    </tr>\n",
       "    <tr>\n",
       "      <th>75%</th>\n",
       "      <td>176.086061</td>\n",
       "      <td>67.260552</td>\n",
       "    </tr>\n",
       "    <tr>\n",
       "      <th>max</th>\n",
       "      <td>191.002551</td>\n",
       "      <td>79.671017</td>\n",
       "    </tr>\n",
       "  </tbody>\n",
       "</table>\n",
       "</div>"
      ],
      "text/plain": [
       "           height     weight\n",
       "count   50.000000  50.000000\n",
       "mean   169.744852  60.846589\n",
       "std      9.794331   8.804369\n",
       "min    146.984613  41.420181\n",
       "25%    163.094613  54.352774\n",
       "50%    168.178681  62.009385\n",
       "75%    176.086061  67.260552\n",
       "max    191.002551  79.671017"
      ]
     },
     "execution_count": 18,
     "metadata": {},
     "output_type": "execute_result"
    }
   ],
   "source": [
    "X_train.describe()"
   ]
  },
  {
   "cell_type": "code",
   "execution_count": 19,
   "metadata": {},
   "outputs": [
    {
     "data": {
      "text/plain": [
       "array([[<Axes: xlabel='height', ylabel='height'>,\n",
       "        <Axes: xlabel='weight', ylabel='height'>,\n",
       "        <Axes: xlabel='healthy', ylabel='height'>],\n",
       "       [<Axes: xlabel='height', ylabel='weight'>,\n",
       "        <Axes: xlabel='weight', ylabel='weight'>,\n",
       "        <Axes: xlabel='healthy', ylabel='weight'>],\n",
       "       [<Axes: xlabel='height', ylabel='healthy'>,\n",
       "        <Axes: xlabel='weight', ylabel='healthy'>,\n",
       "        <Axes: xlabel='healthy', ylabel='healthy'>]], dtype=object)"
      ]
     },
     "execution_count": 19,
     "metadata": {},
     "output_type": "execute_result"
    },
    {
     "data": {
      "image/png": "[encoded data removed]",
      "text/plain": [
       "<Figure size 1000x1000 with 9 Axes>"
      ]
     },
     "metadata": {},
     "output_type": "display_data"
    }
   ],
   "source": [
    "colors = train[\"healthy\"].apply(lambda x: \"#0011ff\" if x == 0 else \"#ff0000\")\n",
    "pd.plotting.scatter_matrix(train,color = colors,alpha = 1,figsize = (10,10))"
   ]
  },
  {
   "cell_type": "markdown",
   "metadata": {},
   "source": [
    "There are only two features in this data set. Can you, human, have some model in your mind?  \n",
    "If not, let's make machine learning to help us!"
   ]
  },
  {
   "cell_type": "code",
   "execution_count": 20,
   "metadata": {},
   "outputs": [],
   "source": [
    "from sklearn.linear_model import LogisticRegression\n",
    "from sklearn.neighbors import KNeighborsClassifier\n",
    "from sklearn.tree import DecisionTreeClassifier\n",
    "from sklearn.ensemble import RandomForestClassifier\n",
    "from xgboost import XGBClassifier\n",
    "from sklearn.neural_network import MLPClassifier"
   ]
  },
  {
   "cell_type": "code",
   "execution_count": 21,
   "metadata": {},
   "outputs": [
    {
     "name": "stderr",
     "output_type": "stream",
     "text": [
      "/Users/ethancy/Data_Science_Course_UCLA/venv/lib/python3.8/site-packages/sklearn/neural_network/_multilayer_perceptron.py:691: ConvergenceWarning: Stochastic Optimizer: Maximum iterations (200) reached and the optimization hasn't converged yet.\n",
      "  warnings.warn(\n"
     ]
    },
    {
     "data": {
      "text/html": [
       "<div>\n",
       "<style scoped>\n",
       "    .dataframe tbody tr th:only-of-type {\n",
       "        vertical-align: middle;\n",
       "    }\n",
       "\n",
       "    .dataframe tbody tr th {\n",
       "        vertical-align: top;\n",
       "    }\n",
       "\n",
       "    .dataframe thead th {\n",
       "        text-align: right;\n",
       "    }\n",
       "</style>\n",
       "<table border=\"1\" class=\"dataframe\">\n",
       "  <thead>\n",
       "    <tr style=\"text-align: right;\">\n",
       "      <th></th>\n",
       "      <th>accuracy</th>\n",
       "    </tr>\n",
       "    <tr>\n",
       "      <th>model</th>\n",
       "      <th></th>\n",
       "    </tr>\n",
       "  </thead>\n",
       "  <tbody>\n",
       "    <tr>\n",
       "      <th>LogisticRegression</th>\n",
       "      <td>0.62</td>\n",
       "    </tr>\n",
       "    <tr>\n",
       "      <th>KNeighborsClassifier</th>\n",
       "      <td>0.8</td>\n",
       "    </tr>\n",
       "    <tr>\n",
       "      <th>DecisionTreeClassifier</th>\n",
       "      <td>0.68</td>\n",
       "    </tr>\n",
       "    <tr>\n",
       "      <th>RandomForestClassifier</th>\n",
       "      <td>0.8</td>\n",
       "    </tr>\n",
       "    <tr>\n",
       "      <th>XGBClassifier</th>\n",
       "      <td>0.8</td>\n",
       "    </tr>\n",
       "    <tr>\n",
       "      <th>MLPClassifier</th>\n",
       "      <td>0.64</td>\n",
       "    </tr>\n",
       "  </tbody>\n",
       "</table>\n",
       "</div>"
      ],
      "text/plain": [
       "                       accuracy\n",
       "model                          \n",
       "LogisticRegression         0.62\n",
       "KNeighborsClassifier        0.8\n",
       "DecisionTreeClassifier     0.68\n",
       "RandomForestClassifier      0.8\n",
       "XGBClassifier               0.8\n",
       "MLPClassifier              0.64"
      ]
     },
     "execution_count": 21,
     "metadata": {},
     "output_type": "execute_result"
    }
   ],
   "source": [
    "res = pd.DataFrame(columns = ['accuracy'])\n",
    "res.index.rename('model',inplace = True)\n",
    "clf_list = [LogisticRegression(),KNeighborsClassifier(),DecisionTreeClassifier(),RandomForestClassifier(),XGBClassifier(),MLPClassifier()]\n",
    "for clf in clf_list:\n",
    "    clf.fit(X_train,y_train)\n",
    "    y_pred = clf.predict(X_test)\n",
    "    res.loc[type(clf).__name__,'accuracy'] = sum(y_test == y_pred)/len(y_test)\n",
    "res"
   ]
  },
  {
   "cell_type": "code",
   "execution_count": 22,
   "metadata": {},
   "outputs": [
    {
     "name": "stdout",
     "output_type": "stream",
     "text": [
      "[-5.51327543]\n",
      "[[ 0.03352156 -0.00154749]]\n"
     ]
    }
   ],
   "source": [
    "# Logistic regression\n",
    "print(clf_list[0].intercept_)\n",
    "print(clf_list[0].coef_)"
   ]
  },
  {
   "cell_type": "markdown",
   "metadata": {},
   "source": [
    "The fitted logistic regression model is  \n",
    "probability of healthy $= y = \\frac{1}{1+e^{-0.18651309+0.00613549 *height -0.01248312*weight}}$"
   ]
  },
  {
   "cell_type": "code",
   "execution_count": 23,
   "metadata": {
    "scrolled": true
   },
   "outputs": [
    {
     "data": {
      "image/png": "[encoded data removed]",
      "text/plain": [
       "<Figure size 2000x2000 with 1 Axes>"
      ]
     },
     "metadata": {},
     "output_type": "display_data"
    }
   ],
   "source": [
    "# tree left = yes, right = no\n",
    "plt.figure(figsize=(20,20))\n",
    "plot_tree(clf_list[2])\n",
    "plt.show()"
   ]
  },
  {
   "cell_type": "markdown",
   "metadata": {},
   "source": [
    "### Let's develop a feature called BMI  \n",
    "# $BMI = \\frac{weight}{(\\frac{height}{100})^2}$\n",
    "\n",
    "Can you guess how would the performance become?"
   ]
  },
  {
   "cell_type": "code",
   "execution_count": 24,
   "metadata": {},
   "outputs": [],
   "source": [
    "for df in [X_train,X_test]:\n",
    "    df['BMI'] = df.apply(lambda x:x['weight']/((x['height']/100)**2),axis = 'columns')"
   ]
  },
  {
   "cell_type": "code",
   "execution_count": 25,
   "metadata": {},
   "outputs": [
    {
     "data": {
      "text/html": [
       "<div>\n",
       "<style scoped>\n",
       "    .dataframe tbody tr th:only-of-type {\n",
       "        vertical-align: middle;\n",
       "    }\n",
       "\n",
       "    .dataframe tbody tr th {\n",
       "        vertical-align: top;\n",
       "    }\n",
       "\n",
       "    .dataframe thead th {\n",
       "        text-align: right;\n",
       "    }\n",
       "</style>\n",
       "<table border=\"1\" class=\"dataframe\">\n",
       "  <thead>\n",
       "    <tr style=\"text-align: right;\">\n",
       "      <th></th>\n",
       "      <th>height</th>\n",
       "      <th>weight</th>\n",
       "      <th>BMI</th>\n",
       "    </tr>\n",
       "  </thead>\n",
       "  <tbody>\n",
       "    <tr>\n",
       "      <th>0</th>\n",
       "      <td>186.243454</td>\n",
       "      <td>55.528714</td>\n",
       "      <td>16.008682</td>\n",
       "    </tr>\n",
       "    <tr>\n",
       "      <th>1</th>\n",
       "      <td>163.882436</td>\n",
       "      <td>72.245077</td>\n",
       "      <td>26.899452</td>\n",
       "    </tr>\n",
       "    <tr>\n",
       "      <th>2</th>\n",
       "      <td>164.718282</td>\n",
       "      <td>64.034916</td>\n",
       "      <td>23.601154</td>\n",
       "    </tr>\n",
       "    <tr>\n",
       "      <th>3</th>\n",
       "      <td>159.270314</td>\n",
       "      <td>65.935785</td>\n",
       "      <td>25.992707</td>\n",
       "    </tr>\n",
       "    <tr>\n",
       "      <th>4</th>\n",
       "      <td>178.654076</td>\n",
       "      <td>49.050882</td>\n",
       "      <td>15.368128</td>\n",
       "    </tr>\n",
       "  </tbody>\n",
       "</table>\n",
       "</div>"
      ],
      "text/plain": [
       "       height     weight        BMI\n",
       "0  186.243454  55.528714  16.008682\n",
       "1  163.882436  72.245077  26.899452\n",
       "2  164.718282  64.034916  23.601154\n",
       "3  159.270314  65.935785  25.992707\n",
       "4  178.654076  49.050882  15.368128"
      ]
     },
     "execution_count": 25,
     "metadata": {},
     "output_type": "execute_result"
    }
   ],
   "source": [
    "X_train.head()"
   ]
  },
  {
   "cell_type": "code",
   "execution_count": 26,
   "metadata": {},
   "outputs": [
    {
     "data": {
      "text/html": [
       "<div>\n",
       "<style scoped>\n",
       "    .dataframe tbody tr th:only-of-type {\n",
       "        vertical-align: middle;\n",
       "    }\n",
       "\n",
       "    .dataframe tbody tr th {\n",
       "        vertical-align: top;\n",
       "    }\n",
       "\n",
       "    .dataframe thead th {\n",
       "        text-align: right;\n",
       "    }\n",
       "</style>\n",
       "<table border=\"1\" class=\"dataframe\">\n",
       "  <thead>\n",
       "    <tr style=\"text-align: right;\">\n",
       "      <th></th>\n",
       "      <th>accuracy</th>\n",
       "    </tr>\n",
       "  </thead>\n",
       "  <tbody>\n",
       "    <tr>\n",
       "      <th>LogisticRegression</th>\n",
       "      <td>0.7</td>\n",
       "    </tr>\n",
       "    <tr>\n",
       "      <th>KNeighborsClassifier</th>\n",
       "      <td>0.8</td>\n",
       "    </tr>\n",
       "    <tr>\n",
       "      <th>DecisionTreeClassifier</th>\n",
       "      <td>0.94</td>\n",
       "    </tr>\n",
       "    <tr>\n",
       "      <th>RandomForestClassifier</th>\n",
       "      <td>0.9</td>\n",
       "    </tr>\n",
       "    <tr>\n",
       "      <th>XGBClassifier</th>\n",
       "      <td>0.98</td>\n",
       "    </tr>\n",
       "    <tr>\n",
       "      <th>MLPClassifier</th>\n",
       "      <td>0.56</td>\n",
       "    </tr>\n",
       "  </tbody>\n",
       "</table>\n",
       "</div>"
      ],
      "text/plain": [
       "                       accuracy\n",
       "LogisticRegression          0.7\n",
       "KNeighborsClassifier        0.8\n",
       "DecisionTreeClassifier     0.94\n",
       "RandomForestClassifier      0.9\n",
       "XGBClassifier              0.98\n",
       "MLPClassifier              0.56"
      ]
     },
     "execution_count": 26,
     "metadata": {},
     "output_type": "execute_result"
    }
   ],
   "source": [
    "res = pd.DataFrame(columns = ['accuracy'])\n",
    "clf_list = [LogisticRegression(),KNeighborsClassifier(),DecisionTreeClassifier(),RandomForestClassifier(),XGBClassifier(),MLPClassifier()]\n",
    "for clf in clf_list:\n",
    "    clf.fit(X_train,y_train)\n",
    "    y_pred = clf.predict(X_test)\n",
    "    res.loc[type(clf).__name__,'accuracy'] = sum(y_test == y_pred)/len(y_test)\n",
    "res"
   ]
  },
  {
   "cell_type": "markdown",
   "metadata": {},
   "source": [
    "Whoa! big improvement for tree-based methods(DecisionTreeClassifier, RandomForestClassifier, XGBClassifier) and some improvement for Neuro network(MLPClassifier). How ever the performance for Logisitc regression is even worse."
   ]
  },
  {
   "cell_type": "code",
   "execution_count": 27,
   "metadata": {},
   "outputs": [
    {
     "name": "stdout",
     "output_type": "stream",
     "text": [
      "[67.59975434]\n",
      "[[-0.39366287  0.59999132 -1.74755609]]\n"
     ]
    }
   ],
   "source": [
    "# Logistic regression\n",
    "print(clf_list[0].intercept_)\n",
    "print(clf_list[0].coef_)"
   ]
  },
  {
   "cell_type": "markdown",
   "metadata": {},
   "source": [
    "The fitted logistic regression model is  \n",
    "probability of healthy $= y = \\frac{1}{1+e^{-0.09470083+-0.00133222 *height + 0.07457899*weight + -0.20324103*BMI}}$"
   ]
  },
  {
   "cell_type": "code",
   "execution_count": 28,
   "metadata": {
    "scrolled": true
   },
   "outputs": [
    {
     "data": {
      "image/png": "[encoded data removed]",
      "text/plain": [
       "<Figure size 1000x1000 with 1 Axes>"
      ]
     },
     "metadata": {},
     "output_type": "display_data"
    }
   ],
   "source": [
    "# tree\n",
    "plt.figure(figsize=(10,10))\n",
    "plot_tree(clf_list[2])\n",
    "plt.show()"
   ]
  },
  {
   "cell_type": "markdown",
   "metadata": {},
   "source": [
    "#### We find 2 things:\n",
    "- BMI is a good feature, for tree based methods. But for logistic regression, is it?\n",
    "- Logistic regression tend to use all the features in one shot. Tree would greedily use only the most effective feature for each split.\n",
    "\n",
    "For the finding #2, a quick litte demo:"
   ]
  },
  {
   "cell_type": "code",
   "execution_count": 29,
   "metadata": {},
   "outputs": [
    {
     "data": {
      "text/html": [
       "<div>\n",
       "<style scoped>\n",
       "    .dataframe tbody tr th:only-of-type {\n",
       "        vertical-align: middle;\n",
       "    }\n",
       "\n",
       "    .dataframe tbody tr th {\n",
       "        vertical-align: top;\n",
       "    }\n",
       "\n",
       "    .dataframe thead th {\n",
       "        text-align: right;\n",
       "    }\n",
       "</style>\n",
       "<table border=\"1\" class=\"dataframe\">\n",
       "  <thead>\n",
       "    <tr style=\"text-align: right;\">\n",
       "      <th></th>\n",
       "      <th>height</th>\n",
       "      <th>weight</th>\n",
       "      <th>BMI</th>\n",
       "      <th>height_2</th>\n",
       "      <th>height_3</th>\n",
       "      <th>height_4</th>\n",
       "      <th>height_5</th>\n",
       "      <th>height_6</th>\n",
       "      <th>height_7</th>\n",
       "      <th>height_8</th>\n",
       "      <th>height_9</th>\n",
       "    </tr>\n",
       "  </thead>\n",
       "  <tbody>\n",
       "    <tr>\n",
       "      <th>0</th>\n",
       "      <td>186.243454</td>\n",
       "      <td>55.528714</td>\n",
       "      <td>16.008682</td>\n",
       "      <td>34686.624023</td>\n",
       "      <td>6.460157e+06</td>\n",
       "      <td>1.203162e+09</td>\n",
       "      <td>2.240810e+11</td>\n",
       "      <td>4.173362e+13</td>\n",
       "      <td>7.772614e+15</td>\n",
       "      <td>1.447599e+18</td>\n",
       "      <td>2.696057e+20</td>\n",
       "    </tr>\n",
       "    <tr>\n",
       "      <th>1</th>\n",
       "      <td>163.882436</td>\n",
       "      <td>72.245077</td>\n",
       "      <td>26.899452</td>\n",
       "      <td>26857.452785</td>\n",
       "      <td>4.401465e+06</td>\n",
       "      <td>7.213228e+08</td>\n",
       "      <td>1.182121e+11</td>\n",
       "      <td>1.937289e+13</td>\n",
       "      <td>3.174877e+15</td>\n",
       "      <td>5.203065e+17</td>\n",
       "      <td>8.526910e+19</td>\n",
       "    </tr>\n",
       "    <tr>\n",
       "      <th>2</th>\n",
       "      <td>164.718282</td>\n",
       "      <td>64.034916</td>\n",
       "      <td>23.601154</td>\n",
       "      <td>27132.112582</td>\n",
       "      <td>4.469155e+06</td>\n",
       "      <td>7.361515e+08</td>\n",
       "      <td>1.212576e+11</td>\n",
       "      <td>1.997335e+13</td>\n",
       "      <td>3.289975e+15</td>\n",
       "      <td>5.419191e+17</td>\n",
       "      <td>8.926398e+19</td>\n",
       "    </tr>\n",
       "    <tr>\n",
       "      <th>3</th>\n",
       "      <td>159.270314</td>\n",
       "      <td>65.935785</td>\n",
       "      <td>25.992707</td>\n",
       "      <td>25367.032851</td>\n",
       "      <td>4.040215e+06</td>\n",
       "      <td>6.434864e+08</td>\n",
       "      <td>1.024883e+11</td>\n",
       "      <td>1.632334e+13</td>\n",
       "      <td>2.599823e+15</td>\n",
       "      <td>4.140747e+17</td>\n",
       "      <td>6.594981e+19</td>\n",
       "    </tr>\n",
       "    <tr>\n",
       "      <th>4</th>\n",
       "      <td>178.654076</td>\n",
       "      <td>49.050882</td>\n",
       "      <td>15.368128</td>\n",
       "      <td>31917.278976</td>\n",
       "      <td>5.702152e+06</td>\n",
       "      <td>1.018713e+09</td>\n",
       "      <td>1.819972e+11</td>\n",
       "      <td>3.251454e+13</td>\n",
       "      <td>5.808855e+15</td>\n",
       "      <td>1.037776e+18</td>\n",
       "      <td>1.854028e+20</td>\n",
       "    </tr>\n",
       "  </tbody>\n",
       "</table>\n",
       "</div>"
      ],
      "text/plain": [
       "       height     weight        BMI      height_2      height_3      height_4  \\\n",
       "0  186.243454  55.528714  16.008682  34686.624023  6.460157e+06  1.203162e+09   \n",
       "1  163.882436  72.245077  26.899452  26857.452785  4.401465e+06  7.213228e+08   \n",
       "2  164.718282  64.034916  23.601154  27132.112582  4.469155e+06  7.361515e+08   \n",
       "3  159.270314  65.935785  25.992707  25367.032851  4.040215e+06  6.434864e+08   \n",
       "4  178.654076  49.050882  15.368128  31917.278976  5.702152e+06  1.018713e+09   \n",
       "\n",
       "       height_5      height_6      height_7      height_8      height_9  \n",
       "0  2.240810e+11  4.173362e+13  7.772614e+15  1.447599e+18  2.696057e+20  \n",
       "1  1.182121e+11  1.937289e+13  3.174877e+15  5.203065e+17  8.526910e+19  \n",
       "2  1.212576e+11  1.997335e+13  3.289975e+15  5.419191e+17  8.926398e+19  \n",
       "3  1.024883e+11  1.632334e+13  2.599823e+15  4.140747e+17  6.594981e+19  \n",
       "4  1.819972e+11  3.251454e+13  5.808855e+15  1.037776e+18  1.854028e+20  "
      ]
     },
     "execution_count": 29,
     "metadata": {},
     "output_type": "execute_result"
    }
   ],
   "source": [
    "haha_X_train = X_train.copy()\n",
    "haha_X_test = X_test.copy()\n",
    "for df in [haha_X_train,haha_X_test]:\n",
    "    for i in range(2,10):\n",
    "        df['height_'+str(i)] = df['height']**i\n",
    "haha_X_train.head()"
   ]
  },
  {
   "cell_type": "code",
   "execution_count": 30,
   "metadata": {},
   "outputs": [
    {
     "data": {
      "text/html": [
       "<div>\n",
       "<style scoped>\n",
       "    .dataframe tbody tr th:only-of-type {\n",
       "        vertical-align: middle;\n",
       "    }\n",
       "\n",
       "    .dataframe tbody tr th {\n",
       "        vertical-align: top;\n",
       "    }\n",
       "\n",
       "    .dataframe thead th {\n",
       "        text-align: right;\n",
       "    }\n",
       "</style>\n",
       "<table border=\"1\" class=\"dataframe\">\n",
       "  <thead>\n",
       "    <tr style=\"text-align: right;\">\n",
       "      <th></th>\n",
       "      <th>accuracy</th>\n",
       "    </tr>\n",
       "  </thead>\n",
       "  <tbody>\n",
       "    <tr>\n",
       "      <th>LogisticRegression</th>\n",
       "      <td>0.5</td>\n",
       "    </tr>\n",
       "    <tr>\n",
       "      <th>KNeighborsClassifier</th>\n",
       "      <td>0.58</td>\n",
       "    </tr>\n",
       "    <tr>\n",
       "      <th>DecisionTreeClassifier</th>\n",
       "      <td>0.94</td>\n",
       "    </tr>\n",
       "    <tr>\n",
       "      <th>RandomForestClassifier</th>\n",
       "      <td>0.9</td>\n",
       "    </tr>\n",
       "    <tr>\n",
       "      <th>XGBClassifier</th>\n",
       "      <td>0.98</td>\n",
       "    </tr>\n",
       "    <tr>\n",
       "      <th>MLPClassifier</th>\n",
       "      <td>0.5</td>\n",
       "    </tr>\n",
       "  </tbody>\n",
       "</table>\n",
       "</div>"
      ],
      "text/plain": [
       "                       accuracy\n",
       "LogisticRegression          0.5\n",
       "KNeighborsClassifier       0.58\n",
       "DecisionTreeClassifier     0.94\n",
       "RandomForestClassifier      0.9\n",
       "XGBClassifier              0.98\n",
       "MLPClassifier               0.5"
      ]
     },
     "execution_count": 30,
     "metadata": {},
     "output_type": "execute_result"
    }
   ],
   "source": [
    "\n",
    "res = pd.DataFrame(columns = ['accuracy'])\n",
    "clf_list = [LogisticRegression(),KNeighborsClassifier(),DecisionTreeClassifier(),RandomForestClassifier(),XGBClassifier(),MLPClassifier()]\n",
    "for clf in clf_list:\n",
    "    clf.fit(haha_X_train,y_train)\n",
    "    y_pred = clf.predict(haha_X_test)\n",
    "    res.loc[type(clf).__name__,'accuracy'] = sum(y_test == y_pred)/len(y_test)\n",
    "res"
   ]
  },
  {
   "cell_type": "markdown",
   "metadata": {},
   "source": [
    "OK! let's move back to our example. We knew more (useless) features would probably harm model-based methods. (multicollinearity issue)\n",
    "\n",
    "Now let's try dropping original features, just keep BMI."
   ]
  },
  {
   "cell_type": "code",
   "execution_count": 31,
   "metadata": {},
   "outputs": [
    {
     "data": {
      "text/html": [
       "<div>\n",
       "<style scoped>\n",
       "    .dataframe tbody tr th:only-of-type {\n",
       "        vertical-align: middle;\n",
       "    }\n",
       "\n",
       "    .dataframe tbody tr th {\n",
       "        vertical-align: top;\n",
       "    }\n",
       "\n",
       "    .dataframe thead th {\n",
       "        text-align: right;\n",
       "    }\n",
       "</style>\n",
       "<table border=\"1\" class=\"dataframe\">\n",
       "  <thead>\n",
       "    <tr style=\"text-align: right;\">\n",
       "      <th></th>\n",
       "      <th>BMI</th>\n",
       "    </tr>\n",
       "  </thead>\n",
       "  <tbody>\n",
       "    <tr>\n",
       "      <th>0</th>\n",
       "      <td>16.008682</td>\n",
       "    </tr>\n",
       "    <tr>\n",
       "      <th>1</th>\n",
       "      <td>26.899452</td>\n",
       "    </tr>\n",
       "    <tr>\n",
       "      <th>2</th>\n",
       "      <td>23.601154</td>\n",
       "    </tr>\n",
       "    <tr>\n",
       "      <th>3</th>\n",
       "      <td>25.992707</td>\n",
       "    </tr>\n",
       "    <tr>\n",
       "      <th>4</th>\n",
       "      <td>15.368128</td>\n",
       "    </tr>\n",
       "  </tbody>\n",
       "</table>\n",
       "</div>"
      ],
      "text/plain": [
       "         BMI\n",
       "0  16.008682\n",
       "1  26.899452\n",
       "2  23.601154\n",
       "3  25.992707\n",
       "4  15.368128"
      ]
     },
     "execution_count": 31,
     "metadata": {},
     "output_type": "execute_result"
    }
   ],
   "source": [
    "for df in [X_train,X_test]:\n",
    "    df.drop(['height','weight'],axis = 'columns',inplace = True)\n",
    "X_train.head()"
   ]
  },
  {
   "cell_type": "code",
   "execution_count": 32,
   "metadata": {},
   "outputs": [
    {
     "data": {
      "text/html": [
       "<div>\n",
       "<style scoped>\n",
       "    .dataframe tbody tr th:only-of-type {\n",
       "        vertical-align: middle;\n",
       "    }\n",
       "\n",
       "    .dataframe tbody tr th {\n",
       "        vertical-align: top;\n",
       "    }\n",
       "\n",
       "    .dataframe thead th {\n",
       "        text-align: right;\n",
       "    }\n",
       "</style>\n",
       "<table border=\"1\" class=\"dataframe\">\n",
       "  <thead>\n",
       "    <tr style=\"text-align: right;\">\n",
       "      <th></th>\n",
       "      <th>accuracy</th>\n",
       "    </tr>\n",
       "  </thead>\n",
       "  <tbody>\n",
       "    <tr>\n",
       "      <th>LogisticRegression</th>\n",
       "      <td>0.62</td>\n",
       "    </tr>\n",
       "    <tr>\n",
       "      <th>KNeighborsClassifier</th>\n",
       "      <td>0.82</td>\n",
       "    </tr>\n",
       "    <tr>\n",
       "      <th>DecisionTreeClassifier</th>\n",
       "      <td>0.94</td>\n",
       "    </tr>\n",
       "    <tr>\n",
       "      <th>RandomForestClassifier</th>\n",
       "      <td>0.94</td>\n",
       "    </tr>\n",
       "    <tr>\n",
       "      <th>XGBClassifier</th>\n",
       "      <td>0.98</td>\n",
       "    </tr>\n",
       "    <tr>\n",
       "      <th>MLPClassifier</th>\n",
       "      <td>0.5</td>\n",
       "    </tr>\n",
       "  </tbody>\n",
       "</table>\n",
       "</div>"
      ],
      "text/plain": [
       "                       accuracy\n",
       "LogisticRegression         0.62\n",
       "KNeighborsClassifier       0.82\n",
       "DecisionTreeClassifier     0.94\n",
       "RandomForestClassifier     0.94\n",
       "XGBClassifier              0.98\n",
       "MLPClassifier               0.5"
      ]
     },
     "execution_count": 32,
     "metadata": {},
     "output_type": "execute_result"
    }
   ],
   "source": [
    "res = pd.DataFrame(columns = ['accuracy'])\n",
    "clf_list = [LogisticRegression(),KNeighborsClassifier(),DecisionTreeClassifier(),RandomForestClassifier(),XGBClassifier(),MLPClassifier()]\n",
    "for clf in clf_list:\n",
    "    clf.fit(X_train,y_train)\n",
    "    y_pred = clf.predict(X_test)\n",
    "    res.loc[type(clf).__name__,'accuracy'] = sum(y_test == y_pred)/len(y_test)\n",
    "res"
   ]
  },
  {
   "cell_type": "markdown",
   "metadata": {},
   "source": [
    "better for logistic regression!   \n",
    "Now we set an evil magic feature \"BMI_from_21.25\""
   ]
  },
  {
   "cell_type": "code",
   "execution_count": 33,
   "metadata": {},
   "outputs": [
    {
     "data": {
      "text/html": [
       "<div>\n",
       "<style scoped>\n",
       "    .dataframe tbody tr th:only-of-type {\n",
       "        vertical-align: middle;\n",
       "    }\n",
       "\n",
       "    .dataframe tbody tr th {\n",
       "        vertical-align: top;\n",
       "    }\n",
       "\n",
       "    .dataframe thead th {\n",
       "        text-align: right;\n",
       "    }\n",
       "</style>\n",
       "<table border=\"1\" class=\"dataframe\">\n",
       "  <thead>\n",
       "    <tr style=\"text-align: right;\">\n",
       "      <th></th>\n",
       "      <th>BMI</th>\n",
       "      <th>BMI_from_21.25</th>\n",
       "    </tr>\n",
       "  </thead>\n",
       "  <tbody>\n",
       "    <tr>\n",
       "      <th>0</th>\n",
       "      <td>16.008682</td>\n",
       "      <td>5.241318</td>\n",
       "    </tr>\n",
       "    <tr>\n",
       "      <th>1</th>\n",
       "      <td>26.899452</td>\n",
       "      <td>5.649452</td>\n",
       "    </tr>\n",
       "    <tr>\n",
       "      <th>2</th>\n",
       "      <td>23.601154</td>\n",
       "      <td>2.351154</td>\n",
       "    </tr>\n",
       "    <tr>\n",
       "      <th>3</th>\n",
       "      <td>25.992707</td>\n",
       "      <td>4.742707</td>\n",
       "    </tr>\n",
       "    <tr>\n",
       "      <th>4</th>\n",
       "      <td>15.368128</td>\n",
       "      <td>5.881872</td>\n",
       "    </tr>\n",
       "  </tbody>\n",
       "</table>\n",
       "</div>"
      ],
      "text/plain": [
       "         BMI  BMI_from_21.25\n",
       "0  16.008682        5.241318\n",
       "1  26.899452        5.649452\n",
       "2  23.601154        2.351154\n",
       "3  25.992707        4.742707\n",
       "4  15.368128        5.881872"
      ]
     },
     "execution_count": 33,
     "metadata": {},
     "output_type": "execute_result"
    }
   ],
   "source": [
    "for df in [X_train,X_test]:\n",
    "    df['BMI_from_21.25'] = np.abs(df['BMI'] - 21.25)\n",
    "X_train.head()"
   ]
  },
  {
   "cell_type": "code",
   "execution_count": 34,
   "metadata": {},
   "outputs": [
    {
     "name": "stderr",
     "output_type": "stream",
     "text": [
      "/Users/ethancy/Data_Science_Course_UCLA/venv/lib/python3.8/site-packages/sklearn/neural_network/_multilayer_perceptron.py:691: ConvergenceWarning: Stochastic Optimizer: Maximum iterations (200) reached and the optimization hasn't converged yet.\n",
      "  warnings.warn(\n"
     ]
    },
    {
     "data": {
      "text/html": [
       "<div>\n",
       "<style scoped>\n",
       "    .dataframe tbody tr th:only-of-type {\n",
       "        vertical-align: middle;\n",
       "    }\n",
       "\n",
       "    .dataframe tbody tr th {\n",
       "        vertical-align: top;\n",
       "    }\n",
       "\n",
       "    .dataframe thead th {\n",
       "        text-align: right;\n",
       "    }\n",
       "</style>\n",
       "<table border=\"1\" class=\"dataframe\">\n",
       "  <thead>\n",
       "    <tr style=\"text-align: right;\">\n",
       "      <th></th>\n",
       "      <th>accuracy</th>\n",
       "    </tr>\n",
       "  </thead>\n",
       "  <tbody>\n",
       "    <tr>\n",
       "      <th>LogisticRegression</th>\n",
       "      <td>0.92</td>\n",
       "    </tr>\n",
       "    <tr>\n",
       "      <th>KNeighborsClassifier</th>\n",
       "      <td>0.82</td>\n",
       "    </tr>\n",
       "    <tr>\n",
       "      <th>DecisionTreeClassifier</th>\n",
       "      <td>0.94</td>\n",
       "    </tr>\n",
       "    <tr>\n",
       "      <th>RandomForestClassifier</th>\n",
       "      <td>0.94</td>\n",
       "    </tr>\n",
       "    <tr>\n",
       "      <th>XGBClassifier</th>\n",
       "      <td>0.92</td>\n",
       "    </tr>\n",
       "    <tr>\n",
       "      <th>MLPClassifier</th>\n",
       "      <td>0.96</td>\n",
       "    </tr>\n",
       "  </tbody>\n",
       "</table>\n",
       "</div>"
      ],
      "text/plain": [
       "                       accuracy\n",
       "LogisticRegression         0.92\n",
       "KNeighborsClassifier       0.82\n",
       "DecisionTreeClassifier     0.94\n",
       "RandomForestClassifier     0.94\n",
       "XGBClassifier              0.92\n",
       "MLPClassifier              0.96"
      ]
     },
     "execution_count": 34,
     "metadata": {},
     "output_type": "execute_result"
    }
   ],
   "source": [
    "res = pd.DataFrame(columns = ['accuracy'])\n",
    "clf_list = [LogisticRegression(),KNeighborsClassifier(),DecisionTreeClassifier(),RandomForestClassifier(),XGBClassifier(),MLPClassifier()]\n",
    "for clf in clf_list:\n",
    "    clf.fit(X_train,y_train)\n",
    "    y_pred = clf.predict(X_test)\n",
    "    res.loc[type(clf).__name__,'accuracy'] = sum(y_test == y_pred)/len(y_test)\n",
    "res"
   ]
  },
  {
   "cell_type": "markdown",
   "metadata": {},
   "source": [
    "Logistic regression performs better than trees and being nearly perfect! We found the magic feature!  \n",
    "But just see more feature may harm logistic regression, let's exclude the BMI feature."
   ]
  },
  {
   "cell_type": "code",
   "execution_count": 35,
   "metadata": {},
   "outputs": [
    {
     "data": {
      "text/html": [
       "<div>\n",
       "<style scoped>\n",
       "    .dataframe tbody tr th:only-of-type {\n",
       "        vertical-align: middle;\n",
       "    }\n",
       "\n",
       "    .dataframe tbody tr th {\n",
       "        vertical-align: top;\n",
       "    }\n",
       "\n",
       "    .dataframe thead th {\n",
       "        text-align: right;\n",
       "    }\n",
       "</style>\n",
       "<table border=\"1\" class=\"dataframe\">\n",
       "  <thead>\n",
       "    <tr style=\"text-align: right;\">\n",
       "      <th></th>\n",
       "      <th>BMI_from_21.25</th>\n",
       "    </tr>\n",
       "  </thead>\n",
       "  <tbody>\n",
       "    <tr>\n",
       "      <th>0</th>\n",
       "      <td>5.241318</td>\n",
       "    </tr>\n",
       "    <tr>\n",
       "      <th>1</th>\n",
       "      <td>5.649452</td>\n",
       "    </tr>\n",
       "    <tr>\n",
       "      <th>2</th>\n",
       "      <td>2.351154</td>\n",
       "    </tr>\n",
       "    <tr>\n",
       "      <th>3</th>\n",
       "      <td>4.742707</td>\n",
       "    </tr>\n",
       "    <tr>\n",
       "      <th>4</th>\n",
       "      <td>5.881872</td>\n",
       "    </tr>\n",
       "  </tbody>\n",
       "</table>\n",
       "</div>"
      ],
      "text/plain": [
       "   BMI_from_21.25\n",
       "0        5.241318\n",
       "1        5.649452\n",
       "2        2.351154\n",
       "3        4.742707\n",
       "4        5.881872"
      ]
     },
     "execution_count": 35,
     "metadata": {},
     "output_type": "execute_result"
    }
   ],
   "source": [
    "for df in [X_train,X_test]:\n",
    "    df.drop('BMI',axis = 'columns',inplace = True)\n",
    "X_train.head()"
   ]
  },
  {
   "cell_type": "code",
   "execution_count": 36,
   "metadata": {},
   "outputs": [
    {
     "name": "stderr",
     "output_type": "stream",
     "text": [
      "/Users/ethancy/Data_Science_Course_UCLA/venv/lib/python3.8/site-packages/sklearn/neural_network/_multilayer_perceptron.py:691: ConvergenceWarning: Stochastic Optimizer: Maximum iterations (200) reached and the optimization hasn't converged yet.\n",
      "  warnings.warn(\n"
     ]
    },
    {
     "data": {
      "text/html": [
       "<div>\n",
       "<style scoped>\n",
       "    .dataframe tbody tr th:only-of-type {\n",
       "        vertical-align: middle;\n",
       "    }\n",
       "\n",
       "    .dataframe tbody tr th {\n",
       "        vertical-align: top;\n",
       "    }\n",
       "\n",
       "    .dataframe thead th {\n",
       "        text-align: right;\n",
       "    }\n",
       "</style>\n",
       "<table border=\"1\" class=\"dataframe\">\n",
       "  <thead>\n",
       "    <tr style=\"text-align: right;\">\n",
       "      <th></th>\n",
       "      <th>accuracy</th>\n",
       "    </tr>\n",
       "  </thead>\n",
       "  <tbody>\n",
       "    <tr>\n",
       "      <th>LogisticRegression</th>\n",
       "      <td>0.92</td>\n",
       "    </tr>\n",
       "    <tr>\n",
       "      <th>KNeighborsClassifier</th>\n",
       "      <td>0.92</td>\n",
       "    </tr>\n",
       "    <tr>\n",
       "      <th>DecisionTreeClassifier</th>\n",
       "      <td>0.94</td>\n",
       "    </tr>\n",
       "    <tr>\n",
       "      <th>RandomForestClassifier</th>\n",
       "      <td>0.94</td>\n",
       "    </tr>\n",
       "    <tr>\n",
       "      <th>XGBClassifier</th>\n",
       "      <td>0.92</td>\n",
       "    </tr>\n",
       "    <tr>\n",
       "      <th>MLPClassifier</th>\n",
       "      <td>0.96</td>\n",
       "    </tr>\n",
       "  </tbody>\n",
       "</table>\n",
       "</div>"
      ],
      "text/plain": [
       "                       accuracy\n",
       "LogisticRegression         0.92\n",
       "KNeighborsClassifier       0.92\n",
       "DecisionTreeClassifier     0.94\n",
       "RandomForestClassifier     0.94\n",
       "XGBClassifier              0.92\n",
       "MLPClassifier              0.96"
      ]
     },
     "execution_count": 36,
     "metadata": {},
     "output_type": "execute_result"
    }
   ],
   "source": [
    "res = pd.DataFrame(columns = ['accuracy'])\n",
    "clf_list = [LogisticRegression(),KNeighborsClassifier(),DecisionTreeClassifier(),RandomForestClassifier(),XGBClassifier(),MLPClassifier()]\n",
    "for clf in clf_list:\n",
    "    clf.fit(X_train,y_train)\n",
    "    y_pred = clf.predict(X_test)\n",
    "    res.loc[type(clf).__name__,'accuracy'] = sum(y_test == y_pred)/len(y_test)\n",
    "res"
   ]
  },
  {
   "cell_type": "markdown",
   "metadata": {},
   "source": [
    "#### Awesome!\n",
    "\n",
    "### Question: Do you have any idea about how to automate or have a SOP for feature engineering?\n",
    "The feature engineering is complex and require lots of experience."
   ]
  },
  {
   "cell_type": "markdown",
   "metadata": {},
   "source": [
    "## Some feature engineering techniques\n",
    "\n",
    "There are too many materials. I simply Googled \"feature engineering\" and give you [this](https://github.com/abhat222/Data-Science--Cheat-Sheet/blob/master/Data%20Science/Feature%20Engineering.pdf)\n",
    "\n",
    "- categorical\n",
    "    - label encoding\n",
    "    - one hot encoding\n",
    "    - count encoding\n",
    "    - binary encoding\n",
    "    - trigonometric encoding\n",
    "    - target encoding\n",
    "- numberical\n",
    "    - normalization\n",
    "    - binning\n",
    "- other\n",
    "    - multiple columns: e.g. feature interaction e.g. groupby other categorical colunmns -> anomaly detection\n",
    "    - text: e.g. count encoding\n",
    "    - sequence engineering e.g. lag features\n",
    "    - intergrate into predictive method\n",
    "- target transform\n",
    "    - log\n",
    "    - normalization\n",
    "    - regression <-> classification"
   ]
  },
  {
   "cell_type": "markdown",
   "metadata": {},
   "source": [
    "### Question: How to determine feature importance?  What do we mean by \"important feature\"? How do we know if we develop a good/useless feature?"
   ]
  },
  {
   "cell_type": "markdown",
   "metadata": {},
   "source": [
    "### My view for developing features\n",
    "- Domain know-how\n",
    "- Data condition\n",
    "- Prediction methods\n",
    "\n",
    "Some tips:\n",
    "- Unify the scales of the features when using model-based methods\n",
    "- Watch out for multi-colliearity when using model-based methods\n",
    "- Check domain simliarity in feature as well as target when using tree-based methods"
   ]
  },
  {
   "cell_type": "markdown",
   "metadata": {},
   "source": [
    "-----\n",
    "# Little tutorial: how to use pipeline in sklearn?\n",
    "You could see the transformer and prediction model looks alike in sklearn.\n",
    "\n",
    "### example:\n",
    "```python\n",
    "from sklearn.pipeline import Pipeline\n",
    "from sklearn.preprocessing import StandardScaler\n",
    "from sklearn.linear_model import LogisticRegression\n",
    "\n",
    "# it takes a list of tuples as parameter\n",
    "pipeline = Pipeline([\n",
    "    ('scaler',StandardScaler()),\n",
    "    ('clf', LogisticRegression())\n",
    "])\n",
    "\n",
    "# use the pipeline object as you would\n",
    "# a regular classifier\n",
    "pipeline.fit(X_train,y_train)\n",
    "\n",
    "```\n",
    "\n",
    "Prediction model could be viewed as a sophisticated target encoding. Hehehe..."
   ]
  },
  {
   "cell_type": "markdown",
   "metadata": {},
   "source": [
    "# Feature devlopements: back to basics\n",
    "We have some ideas for how we could solve predictive analysis done from tabular data: \n",
    "$x_1,x_2,x_3... \\to y$\n",
    "\n",
    "where  \n",
    "$x_1, x_2, x_3...$ features could be numerical or categorical  \n",
    "$y$ could be categorical or numberical\n",
    "Then we could do some further imputation and feature engineering on $x_1, x_2...$\n",
    "\n",
    "Now back to basics, when we're trying to make a predictive goal. \n",
    "\n",
    "- What would be a record in our data set?\n",
    "- What would be $y$?\n",
    "- What would be $x_1, x_2...$?\n",
    "\n"
   ]
  },
  {
   "cell_type": "code",
   "execution_count": null,
   "metadata": {},
   "outputs": [],
   "source": []
  }
 ],
 "metadata": {
  "kernelspec": {
   "display_name": "Python 3 (ipykernel)",
   "language": "python",
   "name": "python3"
  },
  "language_info": {
   "codemirror_mode": {
    "name": "ipython",
    "version": 3
   },
   "file_extension": ".py",
   "mimetype": "text/x-python",
   "name": "python",
   "nbconvert_exporter": "python",
   "pygments_lexer": "ipython3",
   "version": "3.8.7"
  }
 },
 "nbformat": 4,
 "nbformat_minor": 4
}
